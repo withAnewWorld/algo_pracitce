{
 "cells": [
  {
   "cell_type": "code",
   "execution_count": 9,
   "id": "3ad8199d",
   "metadata": {},
   "outputs": [
    {
     "name": "stdout",
     "output_type": "stream",
     "text": [
      "25\n",
      "3\n",
      "1.0\n",
      "6\n"
     ]
    }
   ],
   "source": [
    "#greedy 1\n",
    "#시간복잡도 안 좋음\n",
    "n=int(input())\n",
    "k=int(input())\n",
    "count = 0\n",
    "if n==1:\n",
    "    print(count)\n",
    "    print(n)\n",
    "while(n!=1):\n",
    "    if (n>=k and n%k==0 and k!=1):\n",
    "        n=n/k\n",
    "        count= count+1\n",
    "    else:\n",
    "        n=n-1\n",
    "        count= count+1\n",
    "print(n)\n",
    "print(count)\n",
    "    \n"
   ]
  },
  {
   "cell_type": "code",
   "execution_count": 15,
   "id": "d807d827",
   "metadata": {},
   "outputs": [
    {
     "name": "stdout",
     "output_type": "stream",
     "text": [
      "25 3\n",
      "8\n"
     ]
    }
   ],
   "source": [
    "#greedy 1 모범 답안\n",
    "n, k = map(int, input().split())\n",
    "\n",
    "result = 0\n",
    "\n",
    "while True:\n",
    "    target = (n//k)*k\n",
    "    result += (n-target) #1을 빼는 연산의 횟수\n",
    "    \n",
    "    if n<k:\n",
    "        break\n",
    "    \n",
    "    result +=1\n",
    "    n //=k\n",
    "    \n",
    "result +=(n-1)\n",
    "print(result)"
   ]
  },
  {
   "cell_type": "code",
   "execution_count": 26,
   "id": "9825004e",
   "metadata": {},
   "outputs": [
    {
     "name": "stdout",
     "output_type": "stream",
     "text": [
      "567\n",
      "210\n"
     ]
    }
   ],
   "source": [
    "#greedy 2\n",
    "array = list(map(int, input()))\n",
    "result = array[0]\n",
    "for i in range(len(array)-1):\n",
    "    if array[i+1]==0 or array[i+1]==1 or result ==0:\n",
    "        result += array[i+1]\n",
    "    else:\n",
    "        result *= array[i+1]\n",
    "print(result)"
   ]
  },
  {
   "cell_type": "code",
   "execution_count": 30,
   "id": "02890178",
   "metadata": {},
   "outputs": [
    {
     "name": "stdout",
     "output_type": "stream",
     "text": [
      "02321654\n",
      "1560\n"
     ]
    }
   ],
   "source": [
    "#greedy 2 모범답안\n",
    "data = input()\n",
    "result = int(data[0])\n",
    "\n",
    "for i in range(1, len(data)):\n",
    "    \n",
    "    num = int(data[i])\n",
    "    if num<=1 or result <=1:\n",
    "        result += num\n",
    "    else:\n",
    "        result *=num\n",
    "        \n",
    "print(result)"
   ]
  },
  {
   "cell_type": "code",
   "execution_count": 6,
   "id": "bb507ffd",
   "metadata": {},
   "outputs": [
    {
     "name": "stdout",
     "output_type": "stream",
     "text": [
      "5\n",
      "5 5 5 5 5\n",
      "1\n"
     ]
    }
   ],
   "source": [
    "#greedy 3\n",
    "n = input()\n",
    "array = list(map(int, input().split()))\n",
    "result = 0\n",
    "group=[]\n",
    "array.sort()\n",
    "for i in array:\n",
    "    group.append(i)\n",
    "    if max(group)<=len(group):\n",
    "        result += 1\n",
    "        group = []\n",
    "        \n",
    "print(result)"
   ]
  },
  {
   "cell_type": "code",
   "execution_count": 8,
   "id": "c1887291",
   "metadata": {},
   "outputs": [
    {
     "name": "stdout",
     "output_type": "stream",
     "text": [
      "5\n",
      "1 2 2 3 2\n",
      "2\n"
     ]
    }
   ],
   "source": [
    "#greedy 3 모범답안\n",
    "n = int(input())\n",
    "data = list(map(int, input().split()))\n",
    "data.sort()\n",
    "\n",
    "result =0 # total number of group\n",
    "count = 0 # the number of people included in the group now.\n",
    "\n",
    "for i in data:\n",
    "    count +=1\n",
    "    if count>=i:\n",
    "        result +=1\n",
    "        count =0\n",
    "print(result)"
   ]
  },
  {
   "cell_type": "code",
   "execution_count": 27,
   "id": "a8099ae5",
   "metadata": {},
   "outputs": [
    {
     "name": "stdout",
     "output_type": "stream",
     "text": [
      "5\n",
      "11475\n"
     ]
    }
   ],
   "source": [
    "#구현 1 모범 답안\n",
    "h=int(input())\n",
    "count = 0\n",
    "for i in range(h+1):\n",
    "    for j in range(60):\n",
    "        for k in range(60):\n",
    "            if '3' in str(i) + str(j) + str(k):\n",
    "                count += 1\n",
    "print(count)"
   ]
  },
  {
   "cell_type": "code",
   "execution_count": 30,
   "id": "8b45aeea",
   "metadata": {},
   "outputs": [
    {
     "name": "stdout",
     "output_type": "stream",
     "text": [
      "c2\n",
      "6\n",
      "3\n"
     ]
    }
   ],
   "source": [
    "#구현 2  답안\n",
    "input_name=str(input())\n",
    "count = 0\n",
    "array=list(input_name)\n",
    "if array[0]=='a':\n",
    "    array[0]=1\n",
    "    \n",
    "if array[0]=='b':\n",
    "    array[0]=2\n",
    "    \n",
    "if array[0]=='c':\n",
    "    array[0]=3\n",
    "if array[0]=='d':\n",
    "    array[0]=4\n",
    "\n",
    "if array[0]=='e':\n",
    "    array[0]=5\n",
    "\n",
    "if array[0]=='f':\n",
    "    array[0]=6\n",
    "\n",
    "if array[0]=='g':\n",
    "    array[0]=7\n",
    "\n",
    "if array[0]=='h':\n",
    "    array[0]=8\n",
    "\n",
    "\n",
    "array[1]=int(array[1])\n",
    "if (array[0] - 2)>=1:\n",
    "    if (array[1] -1)>=1:\n",
    "        count+=1\n",
    "    if (array[1]+1)<=8:\n",
    "        count+=1\n",
    "if (array[0]+2)<=8:\n",
    "    if array[1] -1>=1:\n",
    "        count+=1\n",
    "    if array[1]+1<=8:\n",
    "        count+=1\n",
    "if (array[0]-1)>=1:\n",
    "    if array[1]-2>=1:\n",
    "        count+=1\n",
    "    if array[1]+2<=8:\n",
    "        count+=1\n",
    "if (array[0]+1)<=8:\n",
    "    if array[1]-2>=1:\n",
    "        count+=1\n",
    "    if array[1]+2<=8:\n",
    "        count+=1\n",
    "        \n",
    "\n",
    "print(count)\n",
    "#특정 행렬의 값을 입력을 받는다\n",
    "#가능한 경우의 수를 리턴한다.\n",
    "#가능한 경우의 수: 열 +-2, 행+-1 or 열 +-1, 행 +-2"
   ]
  },
  {
   "cell_type": "code",
   "execution_count": 33,
   "id": "58f7efec",
   "metadata": {},
   "outputs": [
    {
     "name": "stdout",
     "output_type": "stream",
     "text": [
      "a2\n",
      "3\n"
     ]
    }
   ],
   "source": [
    "#구현 2 모범 답안\n",
    "input_data = input()\n",
    "row = int(input_data[1])\n",
    "column = int(ord(input_data[0])) - int(ord('a'))+1\n",
    "\n",
    "steps=[(-2, -1), (-1, -2), (1, -2), (2, -1), (2, 1), (1, 2), (-1, 2), (-2, 1)]\n",
    "\n",
    "result =0\n",
    "for step in steps:\n",
    "    next_row = row+step[0]\n",
    "    next_column= column+step[1]\n",
    "    \n",
    "    if next_row>=1 and next_row <= 8 and next_column>=1 and next_column<=8:\n",
    "        result +=1\n",
    "        \n",
    "print(result)"
   ]
  },
  {
   "cell_type": "code",
   "execution_count": 29,
   "id": "dea65f4a",
   "metadata": {},
   "outputs": [
    {
     "name": "stdout",
     "output_type": "stream",
     "text": [
      "AJKDLSI412K4JSJ9D\n",
      "ADDIJJJKKLSS20\n"
     ]
    }
   ],
   "source": [
    "#구현 3 답안\n",
    "input_data = str(input())\n",
    "array = list(input_data)\n",
    "digits = ['0','1','2','3','4','5','6','7','8','9']\n",
    "result_sum=[]\n",
    "for i in range(len(array)):\n",
    "    for j in range(len(digits)):\n",
    "        if array[i]==digits[j]:\n",
    "            result_sum.append(int(digits[j]))\n",
    "            del array[i]\n",
    "            array.insert(0, \" \")\n",
    "array.sort()\n",
    "result=\"\".join(array)\n",
    "print(result.strip()+str(sum(result_sum)))\n"
   ]
  },
  {
   "cell_type": "code",
   "execution_count": 32,
   "id": "c940fcf2",
   "metadata": {},
   "outputs": [
    {
     "name": "stdout",
     "output_type": "stream",
     "text": [
      "asjkdnkj12n3\n",
      "adjjkknns6\n",
      "<class 'str'>\n"
     ]
    }
   ],
   "source": [
    "#구현 3 모범 답안\n",
    "data = input()\n",
    "result = []\n",
    "value = 0\n",
    "\n",
    "for x in data:\n",
    "    if x.isalpha():\n",
    "        result.append(x)\n",
    "    else:\n",
    "        value += int(x)\n",
    "        \n",
    "result.sort()\n",
    "\n",
    "if value!=0:\n",
    "    result.append(str(value))\n",
    "    \n",
    "print(''.join(result))\n"
   ]
  }
 ],
 "metadata": {
  "kernelspec": {
   "display_name": "Python 3 (ipykernel)",
   "language": "python",
   "name": "python3"
  },
  "language_info": {
   "codemirror_mode": {
    "name": "ipython",
    "version": 3
   },
   "file_extension": ".py",
   "mimetype": "text/x-python",
   "name": "python",
   "nbconvert_exporter": "python",
   "pygments_lexer": "ipython3",
   "version": "3.8.12"
  }
 },
 "nbformat": 4,
 "nbformat_minor": 5
}
