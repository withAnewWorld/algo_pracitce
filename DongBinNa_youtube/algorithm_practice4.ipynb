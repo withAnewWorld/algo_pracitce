{
 "cells": [
  {
   "cell_type": "code",
   "execution_count": 3,
   "id": "ae869767",
   "metadata": {},
   "outputs": [
    {
     "name": "stdout",
     "output_type": "stream",
     "text": [
      "3\n"
     ]
    }
   ],
   "source": [
    "#피보나치 수열 함수(중복되는 부분 문제) O(2^n)\n",
    "def fibo(x):\n",
    "    if x==1 or x==2:\n",
    "        return 1\n",
    "    else:\n",
    "        return fibo(x-1) + fibo(x-2) #점화식 fibo(x) = fibo(x-1) + fibo(x-2)\n",
    "    \n",
    "print(fibo(4))"
   ]
  },
  {
   "cell_type": "code",
   "execution_count": null,
   "id": "3bfaaf33",
   "metadata": {},
   "outputs": [],
   "source": [
    "#다이나믹 프로그래밍의 사용 조건\n",
    "#최적 부분 구조: 큰 문제를 작은 문제로 나눌 수 있다.\n",
    "#중복되는 부분 문제: 동일한 작은 문제를 반복적으로 해결한다.\n",
    "#Top-Down: Memoization - 재귀 함수 사용\n",
    "    #같은 문제를 다시 호출하면 메모했던 결과를 그대로 가져온다.\n",
    "    #값을 기록해 놓는다는 점에서 캐싱(caching)이라고도 한다.\n",
    "#Botton-up - for문 사용\n",
    "#결과 저장용 리스트는 DP테이블이라고 부른다."
   ]
  },
  {
   "cell_type": "code",
   "execution_count": 5,
   "id": "90b37421",
   "metadata": {},
   "outputs": [
    {
     "name": "stdout",
     "output_type": "stream",
     "text": [
      "218922995834555169026\n"
     ]
    }
   ],
   "source": [
    "#memoization을 활용한 피보나치 수열 O(N)\n",
    "d= [0]*100\n",
    "\n",
    "def fibo(x):\n",
    "    if x ==1 or x == 2:\n",
    "        return 1\n",
    "    \n",
    "    if d[x]!=0: #이미 계산이 되어있으면 return\n",
    "        return d[x]\n",
    "    \n",
    "    d[x] = fibo(x-1) + fibo(x-2)\n",
    "    return d[x]\n",
    "\n",
    "print(fibo(99))"
   ]
  },
  {
   "cell_type": "code",
   "execution_count": 6,
   "id": "22d2c179",
   "metadata": {},
   "outputs": [
    {
     "name": "stdout",
     "output_type": "stream",
     "text": [
      "[218922995834555169026]\n"
     ]
    }
   ],
   "source": [
    "#Bottom-Up 방식을 이용한 피보나치 수열\n",
    "d=[0]*100\n",
    "d[1]= 1\n",
    "d[2]=1\n",
    "n=99\n",
    "\n",
    "for i in range(3, n+1):\n",
    "    d[i] = d[i-1] + d[i-2]\n",
    "    \n",
    "print(d[n])"
   ]
  },
  {
   "cell_type": "code",
   "execution_count": null,
   "id": "3b2f79c8",
   "metadata": {},
   "outputs": [],
   "source": [
    "#다이나믹 프로그래밍 문제 접근법\n",
    "#1. 다이나믹 프로그래밍 유형?\n",
    "#ex) 그리디, 구현, 완전 탐색 등의 아이디어로 문제를 해결할 수 있는지\n",
    "#재귀함수로 완전 탐색 프로그램을 작성한 뒤 탑다운으로 문제를 풀 수 있으면 코드 개선\n"
   ]
  },
  {
   "cell_type": "code",
   "execution_count": 34,
   "id": "f416b315",
   "metadata": {
    "scrolled": true
   },
   "outputs": [
    {
     "name": "stdout",
     "output_type": "stream",
     "text": [
      "10\n",
      "1 2 3 4 5 6 7 8 9 0\n",
      "[17, 17, 17, 17, 17, 17, 16, 14, 16, 15]\n"
     ]
    },
    {
     "data": {
      "text/plain": [
       "17"
      ]
     },
     "execution_count": 34,
     "metadata": {},
     "output_type": "execute_result"
    }
   ],
   "source": [
    "#개미 전사 2개만 선택하는 경우 답안\n",
    "n=int(input())\n",
    "k=list(map(int,input().split()))\n",
    "max_array=[]\n",
    "for i in range(n):\n",
    "    if i==0:\n",
    "        pivot=[k[0]]\n",
    "        back_array=k[2:]\n",
    "        sum_array = pivot +back_array\n",
    "        sum_array.sort(reverse=True)\n",
    "        max_array.append(sum_array[0]+sum_array[1])\n",
    "        \n",
    "    else:\n",
    "        fore_array=k[:i-1]\n",
    "        pivot=[k[i]]\n",
    "        back_array=k[i+2:]\n",
    "        sum_array = fore_array + pivot + back_array\n",
    "        sum_array.sort(reverse=True)\n",
    "        max_array.append(sum_array[0]+sum_array[1])\n",
    "        \n",
    "print(max_array)\n",
    "max(max_array)\n",
    "#print(max(max_array))\n",
    "#첫번째 결과 + 3번째 이후 결과\n",
    "#두번째 결과 + 4번째 이후 결과\n",
    "#3번째 결과 + 1번째 결과 or + 5번째 이후 결과"
   ]
  },
  {
   "cell_type": "code",
   "execution_count": 36,
   "id": "67a5d03a",
   "metadata": {},
   "outputs": [
    {
     "name": "stdout",
     "output_type": "stream",
     "text": [
      "5\n",
      "1 3 5 2 4\n",
      "10\n"
     ]
    }
   ],
   "source": [
    "#개미 전사 모범답안\n",
    "#a(i) = max(a(i-1), a(i-2) + k(i)) *k(i): i번째 식량창고에 있는 식량의 양\n",
    "n = int(input())\n",
    "\n",
    "array = list(map(int, input().split()))\n",
    "d = [0]*100\n",
    "\n",
    "d[0] = array[0]\n",
    "d[1] = max(array[0], array[1])\n",
    "for i in range(2, n):\n",
    "    d[i] = max(d[i-1], d[i-2]+array[i])\n",
    "\n",
    "print(d[n-1])\n",
    "            "
   ]
  },
  {
   "cell_type": "code",
   "execution_count": 55,
   "id": "4e6e2eb4",
   "metadata": {},
   "outputs": [
    {
     "name": "stdout",
     "output_type": "stream",
     "text": [
      "26\n",
      "(5.0, 2)\n",
      "(1.0, 5.0)\n"
     ]
    }
   ],
   "source": [
    "#1로 만들기 답안\n",
    "n=0\n",
    "def function(a):\n",
    "    global x, n \n",
    "    if x ==1:\n",
    "        return n\n",
    "    if x%a ==0:\n",
    "        x = x/a\n",
    "        n += 1\n",
    "    else:\n",
    "        n += x%a\n",
    "        x=(x- x%a)/a\n",
    "        n += 1\n",
    "    return x, n\n",
    "\n",
    "#until x=1 , min(n) function(5)+function(3)+function(2)\n",
    "\n",
    "print(function(5))\n",
    "print(function(3))\n",
    "#5로 나누어질 때 까지 1을 뺀다 or 3으로 나누어질 때 까지 1을 뺀다 or 2로 나누어질 때 까지 1을 뺸다\n",
    "#5로 나눈다 or 3으로 나눈다 or 2로 나눈다.\n",
    "\n"
   ]
  },
  {
   "cell_type": "code",
   "execution_count": 57,
   "id": "68c29c3a",
   "metadata": {},
   "outputs": [
    {
     "name": "stdout",
     "output_type": "stream",
     "text": [
      "28\n",
      "4\n"
     ]
    }
   ],
   "source": [
    "#1로 만들기 모범답안\n",
    "#a(i) = min(a(i-1), a(i/2), a(i/3), a(i/5)) + 1\n",
    "x = int(input())\n",
    "\n",
    "d = [0]*30001\n",
    "for i in range(2, x+1):\n",
    "    d[i] = d[i-1] +1\n",
    "    if i%2 ==0:\n",
    "        d[i] = min(d[i], d[i//2]+1)\n",
    "    if i%3 ==0:\n",
    "        d[i] = min(d[i], d[i//3]+1)\n",
    "    if i%5 ==0:\n",
    "        d[i] = min(d[i], d[i//5]+1)\n",
    "        \n",
    "print(d[x])\n"
   ]
  },
  {
   "cell_type": "code",
   "execution_count": 48,
   "id": "0a55cda3",
   "metadata": {},
   "outputs": [
    {
     "name": "stdout",
     "output_type": "stream",
     "text": [
      "4 20\n",
      "7\n",
      "8\n",
      "9\n",
      "15\n",
      "-1\n",
      "[0, 100, 100, 100, 100, 100, 100, 1, 1, 1, 100, 100, 100, 100, 2, 1, 2, 2, 2, 100, 100]\n"
     ]
    }
   ],
   "source": [
    "#효율적인 화폐 구성\n",
    "n,m=map(int, input().split())\n",
    "value=[]\n",
    "for _ in range(n):\n",
    "    value.append(int(input()))\n",
    "\n",
    "value.sort()\n",
    "d=[100]*100\n",
    "d[0]=0\n",
    "for i in range(len(value)):\n",
    "    d[value[i]] = 1\n",
    "    \n",
    "for i in range(0, m+1):\n",
    "    for j in range(0, n):\n",
    "        d[i] = min(d[i], d[i-value[j]]+1)\n",
    "\n",
    "if d[m]>50:\n",
    "    print(-1)\n",
    "else:\n",
    "    print(d[m])  \n",
    "\n",
    "print(d[:m+1])\n"
   ]
  },
  {
   "cell_type": "code",
   "execution_count": 10,
   "id": "32e079e0",
   "metadata": {},
   "outputs": [
    {
     "name": "stdout",
     "output_type": "stream",
     "text": [
      "1\n"
     ]
    }
   ],
   "source": [
    "# a(i): 금액 i를 만들 수 있는 최소한의 화폐 개수\n",
    "# k: 각 화폐의 단위\n",
    "#a(i-k)를 만드는 방법이 존재하는 경우 a(i)=min(a(i), a(i-k)+1)\n",
    "#a(i-k)를 만드는 방법이 존재하지 않는 경우 a(i)=INF"
   ]
  },
  {
   "cell_type": "code",
   "execution_count": 28,
   "id": "58121a7d",
   "metadata": {},
   "outputs": [
    {
     "name": "stdout",
     "output_type": "stream",
     "text": [
      "2 15\n",
      "3\n",
      "2\n",
      "5\n"
     ]
    }
   ],
   "source": [
    "#효율적인 화폐 구성 모범 답안\n",
    "n, m = map(int, input().split())\n",
    "array = []\n",
    "for i in range(n):\n",
    "    array.append(int(input()))\n",
    "    \n",
    "d = [10001]*(m+1)\n",
    "\n",
    "d[0] = 0\n",
    "for i in range(n):\n",
    "    for j in range(array[i], m+1):\n",
    "        if d[j-array[i]]!=10001:\n",
    "            d[j] = min(d[j], d[j-array[i]]+1)\n",
    "            \n",
    "if d[m]==10001:\n",
    "    print(-1)\n",
    "else:\n",
    "    print(d[m])"
   ]
  },
  {
   "cell_type": "code",
   "execution_count": 45,
   "id": "a54c462e",
   "metadata": {},
   "outputs": [
    {
     "name": "stdout",
     "output_type": "stream",
     "text": [
      "2\n",
      "3 4\n",
      "1 3 3 2 2 1 4 1 0 6 4 7\n",
      "4 4\n",
      "1 3 1 5 2 2 4 1 5 0 2 3 0 6 1 2\n",
      "19\n",
      "16\n"
     ]
    }
   ],
   "source": [
    "#금광문제 답안\n",
    "t=int(input())\n",
    "result=[]\n",
    "for _ in range(t):\n",
    "    n, m = map(int, input().split())\n",
    "    array = list(map(int, input().split()))\n",
    "    matrix = []\n",
    "    for i in range (n):\n",
    "        line=[]\n",
    "        for j in range(m):\n",
    "            line.append(array[j])\n",
    "        del array[:m]\n",
    "        matrix.append(line)\n",
    "\n",
    "\n",
    "    d= [ [0 for i in range(m)] for j in range(n)]\n",
    "    for i in range(n):\n",
    "        d[i][0] = matrix[i][0]\n",
    "\n",
    "    for j in range(1, m):\n",
    "        for i in range(0, n):\n",
    "            d[i][j]= d[i][j-1] + matrix[i][j]\n",
    "            if i-1>=0:\n",
    "                d[i][j]= max(d[i][j], d[i-1][j-1]+matrix[i][j])\n",
    "            if i+1<=n-1:\n",
    "                d[i][j]= max(d[i][j], d[i+1][j-1]+matrix[i][j])\n",
    "            \n",
    "    result.append(max(map(max, d)))\n",
    "for i in range(t):\n",
    "    print(result[i])\n"
   ]
  },
  {
   "cell_type": "code",
   "execution_count": null,
   "id": "e9aa9b07",
   "metadata": {},
   "outputs": [],
   "source": [
    "#금광 모범답안\n",
    "#test case 입력\n",
    "for tc in range(int(input())):\n",
    "    n, m = map(int, input().split())\n",
    "    array = list(map(int,input().split()))\n",
    "    dp = []\n",
    "    index = 0\n",
    "    for i in range(n):\n",
    "        dp.append(array[index:index+m])\n",
    "        index +=m\n",
    "        \n",
    "    for j in range(1, m):\n",
    "        for i in range(n):\n",
    "            if i==0: left_up=0 #0행일 경우 왼쪽 위에서 오는 값 차단\n",
    "            else: left_up = dp[i-1][j-1]\n",
    "            if i== n-1: left_down=0 #마지막 행일 경우 왼쪽 아래에서 오는 값 차단\n",
    "            else: left_down = dp[i+1][j-1]\n",
    "            \n",
    "            left=dp[i][j-1]\n",
    "            dp[i][j] = dp[i][j]+max(left_up, left_down, left)\n",
    "            \n",
    "    result = 0\n",
    "    for i in range(n):\n",
    "        result = max(result, dp[i][m-1])\n",
    "    print(result)\n"
   ]
  },
  {
   "cell_type": "code",
   "execution_count": 7,
   "id": "ffc7287d",
   "metadata": {
    "scrolled": true
   },
   "outputs": [
    {
     "name": "stdout",
     "output_type": "stream",
     "text": [
      "6\n",
      "9 7 14 13 12 10\n",
      "2\n",
      "[1, 2, 3, 4, 1, 2]\n"
     ]
    }
   ],
   "source": [
    "#병사 배치하기 모범 답안\n",
    "#가장 긴 증가하는 부분 수열(LIS)\n",
    "#let) D[i]: array[i]를 마지막 원소로 가지는 부분 수열의 최대 길이\n",
    "# for all) o<= j <i, D[i] = max(D[i], D[j]+1) if array[j] < array[i]\n",
    "n = int(input())\n",
    "array = list(map(int, input().split()))\n",
    "\n",
    "array.reverse()\n",
    "\n",
    "dp=[1]*n\n",
    "\n",
    "for i in range(1, n):\n",
    "    for j in range(0, i):\n",
    "        if array[j]<array[i]:\n",
    "            dp[i] = max(dp[i], dp[j]+1)\n",
    "            \n",
    "print(n-max(dp))\n",
    "\n",
    "print(dp)"
   ]
  },
  {
   "cell_type": "code",
   "execution_count": 2,
   "id": "8236211a",
   "metadata": {},
   "outputs": [
    {
     "data": {
      "text/plain": [
       "5"
      ]
     },
     "execution_count": 2,
     "metadata": {},
     "output_type": "execute_result"
    }
   ],
   "source": [
    "a=[1, 3, False, 6, False]\n"
   ]
  },
  {
   "cell_type": "code",
   "execution_count": null,
   "id": "f0eb1cdf",
   "metadata": {},
   "outputs": [],
   "source": []
  }
 ],
 "metadata": {
  "kernelspec": {
   "display_name": "Python 3 (ipykernel)",
   "language": "python",
   "name": "python3"
  },
  "language_info": {
   "codemirror_mode": {
    "name": "ipython",
    "version": 3
   },
   "file_extension": ".py",
   "mimetype": "text/x-python",
   "name": "python",
   "nbconvert_exporter": "python",
   "pygments_lexer": "ipython3",
   "version": "3.8.12"
  }
 },
 "nbformat": 4,
 "nbformat_minor": 5
}
