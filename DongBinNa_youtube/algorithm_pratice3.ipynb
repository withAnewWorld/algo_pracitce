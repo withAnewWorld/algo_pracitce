{
 "cells": [
  {
   "cell_type": "code",
   "execution_count": 1,
   "id": "553407ec",
   "metadata": {},
   "outputs": [
    {
     "name": "stdout",
     "output_type": "stream",
     "text": [
      "[0, 1, 2, 3, 4, 5, 6, 7, 8, 9]\n"
     ]
    }
   ],
   "source": [
    "#선택 정렬\n",
    "array=[2, 4, 1, 3, 7, 8, 9, 0 ,5, 6]\n",
    "\n",
    "for i in range(len(array)):\n",
    "    min_index =i\n",
    "    for j in range(i+1, len(array)):\n",
    "        if array[min_index]>array[j]:\n",
    "            min_index = j\n",
    "    array[i], array[min_index]= array[min_index], array[i] #swqp\n",
    "print(array)"
   ]
  },
  {
   "cell_type": "code",
   "execution_count": 3,
   "id": "71f8467a",
   "metadata": {},
   "outputs": [
    {
     "name": "stdout",
     "output_type": "stream",
     "text": [
      "[1, 2, 3, 4, 5, 6, 7, 8, 9]\n"
     ]
    }
   ],
   "source": [
    "#삽입 정렬\n",
    "\n",
    "array = [7, 2, 3, 1, 6, 9, 8, 4, 5]\n",
    "for i in range(1, len(array)):\n",
    "    for j in range(i, 0, -1):\n",
    "        if array[j]< array[j-1]:\n",
    "            array[j], array[j-1] = array[j-1], array[j]\n",
    "        else:\n",
    "            break\n",
    "print(array)"
   ]
  },
  {
   "cell_type": "code",
   "execution_count": 6,
   "id": "aaf40110",
   "metadata": {},
   "outputs": [
    {
     "name": "stdout",
     "output_type": "stream",
     "text": [
      "[1, 2, 3, 4, 5, 6, 7, 8, 9]\n"
     ]
    }
   ],
   "source": [
    "#퀵 정렬\n",
    "\n",
    "array = [7, 2, 3, 1, 6, 9, 8, 4, 5]\n",
    "\n",
    "def quick_sort(array, start, end):\n",
    "    if start>= end: #리스트의 원소가 한 개일 경우 반환\n",
    "        return\n",
    "    pivot = start\n",
    "    left = start +1\n",
    "    right = end\n",
    "    while(left<=right):\n",
    "        while(left<= end and array[left]<=array[pivot]):\n",
    "            left +=1\n",
    "        while(right>start and array[right]>= array[pivot]):\n",
    "            right -=1\n",
    "        if(left>right):\n",
    "            array[right], array[pivot] = array[pivot], array[right]\n",
    "        else:\n",
    "            array[left], array[right] = array[right], array[left]\n",
    "    quick_sort(array, start, right-1)\n",
    "    quick_sort(array, right+1, end)\n",
    "\n",
    "quick_sort(array, 0, len(array)-1)\n",
    "print(array)"
   ]
  },
  {
   "cell_type": "code",
   "execution_count": 2,
   "id": "92d77c97",
   "metadata": {},
   "outputs": [
    {
     "name": "stdout",
     "output_type": "stream",
     "text": [
      "1 1 2 2 2 3 3 4 4 5 5 6 7 8 9 9 "
     ]
    }
   ],
   "source": [
    "#계수 정렬\n",
    "\n",
    "array = [7, 2, 3, 1, 6, 9, 8, 4, 5, 4 ,2 ,3, 1, 5, 2, 9]\n",
    "count = [0]*((max(array)+1))\n",
    "\n",
    "for i in range(len(array)):\n",
    "    count[array[i]] +=1\n",
    "for i in range(len(count)):\n",
    "    for j in range(count[i]):\n",
    "        print(i, end= ' ')\n",
    "             "
   ]
  },
  {
   "cell_type": "code",
   "execution_count": 10,
   "id": "ef0b1d70",
   "metadata": {},
   "outputs": [
    {
     "name": "stdout",
     "output_type": "stream",
     "text": [
      "5 3\n",
      "1 2 5 4 3\n",
      "2 2 2 2 2\n",
      "[5, 4, 3, 2, 2]\n",
      "16\n"
     ]
    }
   ],
   "source": [
    "#두 배열의 원소 교체\n",
    "n, k=map(int,input().split())\n",
    "a=list(map(int,input().split()))\n",
    "b=list(map(int,input().split()))\n",
    "\n",
    "tmp=[]\n",
    "for i in range(k):\n",
    "    if min(a) < max(b):\n",
    "        tmp.append(max(b))\n",
    "        a.remove(min(a))\n",
    "        a.append(tmp[0])\n",
    "        b.remove(max(b))\n",
    "        del tmp[0]\n",
    "print(a)\n",
    "print(sum(a))"
   ]
  },
  {
   "cell_type": "code",
   "execution_count": 13,
   "id": "9e734727",
   "metadata": {},
   "outputs": [
    {
     "name": "stdout",
     "output_type": "stream",
     "text": [
      "5 3\n",
      "1 2 5 4 3\n",
      "5 4 2 1 5\n",
      "23\n"
     ]
    }
   ],
   "source": [
    "#두 배열의 원소 교체 모범 답안\n",
    "n, k = map(int, input().split())\n",
    "a = list(map(int, input().split()))\n",
    "b=list(map(int, input().split()))\n",
    "\n",
    "a.sort()\n",
    "b.sort(reverse=True)\n",
    "\n",
    "for i in range(k):\n",
    "    if a[i]<b[i]:\n",
    "        a[i], b[i] = b[i], a[i]\n",
    "    else:\n",
    "        break\n",
    "print(sum(a))"
   ]
  },
  {
   "cell_type": "code",
   "execution_count": null,
   "id": "683e975e",
   "metadata": {},
   "outputs": [],
   "source": [
    "bre"
   ]
  }
 ],
 "metadata": {
  "kernelspec": {
   "display_name": "Python 3 (ipykernel)",
   "language": "python",
   "name": "python3"
  },
  "language_info": {
   "codemirror_mode": {
    "name": "ipython",
    "version": 3
   },
   "file_extension": ".py",
   "mimetype": "text/x-python",
   "name": "python",
   "nbconvert_exporter": "python",
   "pygments_lexer": "ipython3",
   "version": "3.8.12"
  }
 },
 "nbformat": 4,
 "nbformat_minor": 5
}
