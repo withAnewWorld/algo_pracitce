{
 "cells": [
  {
   "cell_type": "code",
   "execution_count": 2,
   "id": "f05f06a8",
   "metadata": {},
   "outputs": [
    {
     "data": {
      "text/plain": [
       "False"
      ]
     },
     "execution_count": 2,
     "metadata": {},
     "output_type": "execute_result"
    }
   ],
   "source": [
    "def is_prime(n):\n",
    "    for i in range(2, n-1):\n",
    "        if n%i ==0:\n",
    "            return False\n",
    "    return True\n",
    "\n",
    "is_prime(4)"
   ]
  },
  {
   "cell_type": "code",
   "execution_count": 4,
   "id": "11098724",
   "metadata": {},
   "outputs": [
    {
     "data": {
      "text/plain": [
       "False"
      ]
     },
     "execution_count": 4,
     "metadata": {},
     "output_type": "execute_result"
    }
   ],
   "source": [
    "import math\n",
    "\n",
    "def is_prime_sqrt(n):\n",
    "    for i in range(2, int(math.sqrt(n))+1):\n",
    "        if n%i==0:\n",
    "            return False\n",
    "    return True\n",
    "\n",
    "is_prime_sqrt(4)"
   ]
  },
  {
   "cell_type": "code",
   "execution_count": 12,
   "id": "a654df9a",
   "metadata": {},
   "outputs": [
    {
     "name": "stdout",
     "output_type": "stream",
     "text": [
      "2 3 5 7 11 13 17 19 23 29 31 37 41 43 47 53 59 61 67 71 73 79 83 89 97 "
     ]
    }
   ],
   "source": [
    "#에라토스테네스 체\n",
    "import math \n",
    "\n",
    "n= 100\n",
    "\n",
    "prime_array = [True]*(n+1)\n",
    "\n",
    "def net():\n",
    "    for i in range(2, int(math.sqrt(n+1))+1):\n",
    "        if prime_array[i] ==True:\n",
    "            j=2\n",
    "        while i*j <=n:\n",
    "            prime_array[i*j]=False\n",
    "            j +=1\n",
    "\n",
    "net()\n",
    "for i in range(2, n+1):\n",
    "    if prime_array[i] == True:\n",
    "        print(i, end=' ')"
   ]
  },
  {
   "cell_type": "code",
   "execution_count": 7,
   "id": "749edbb2",
   "metadata": {},
   "outputs": [
    {
     "name": "stdout",
     "output_type": "stream",
     "text": [
      "3\n"
     ]
    }
   ],
   "source": [
    "#특정한 합을 가지는 부분 연속 수열 찾기\n",
    "array = [1, 2, 3, 2, 5]\n",
    "m=5\n",
    "start_point =0\n",
    "end_point = 0\n",
    "\n",
    "count = 0\n",
    "while start_point <= len(array)-1:\n",
    "    result = 0\n",
    "    for i in range(start_point, end_point+1):\n",
    "        result +=array[i]\n",
    "    if result == m:\n",
    "        count +=1\n",
    "        start_point+=1\n",
    "    elif result < m:\n",
    "        if end_point == len(array)-1:\n",
    "            continue\n",
    "        end_point+=1\n",
    "    else:\n",
    "        start_point +=1\n",
    "        \n",
    "print(count)"
   ]
  },
  {
   "cell_type": "code",
   "execution_count": 4,
   "id": "56938e58",
   "metadata": {},
   "outputs": [
    {
     "name": "stdout",
     "output_type": "stream",
     "text": [
      "3\n"
     ]
    }
   ],
   "source": [
    "#특정한 합을 가지는 부분 연속 수열 찾기(모범답안)\n",
    "\n",
    "n= 5 #데이터 개수 \n",
    "m=5 #찾고자 하는 부분합\n",
    "data=[1, 2, 3, 2, 5]\n",
    "\n",
    "count = 0\n",
    "interval_sum = 0\n",
    "end = 0\n",
    "#start를 차례대로 증가\n",
    "for start in range(n):\n",
    "    #end를 가능한 만큼 이동시키기\n",
    "    while interval_sum < m and end<n:\n",
    "        interval_sum +=data[end]\n",
    "        end +=1\n",
    "        \n",
    "    if interval_sum ==m:\n",
    "        count +=1\n",
    "    interval_sum -=data[start] #start에 해당하는 데이터 삭제 후 start += 1\n",
    "print(count)"
   ]
  },
  {
   "cell_type": "code",
   "execution_count": 13,
   "id": "f13a8213",
   "metadata": {},
   "outputs": [
    {
     "name": "stdout",
     "output_type": "stream",
     "text": [
      "3 4\n",
      "70\n"
     ]
    },
    {
     "data": {
      "text/plain": [
       "[0, 10, 30, 60, 100, 150]"
      ]
     },
     "execution_count": 13,
     "metadata": {},
     "output_type": "execute_result"
    }
   ],
   "source": [
    "#구간합 빠르게 계산하기\n",
    "left, right = map(int, input().split())\n",
    "data = [10, 20, 30, 40, 50]\n",
    "prefix_sum = [0]\n",
    "result =0\n",
    "for i in data:\n",
    "    result += i\n",
    "    prefix_sum.append(result)\n",
    "\n",
    "\n",
    "print(prefix_sum[right]-prefix_sum[left-1])\n",
    "prefix_sum"
   ]
  }
 ],
 "metadata": {
  "kernelspec": {
   "display_name": "Python 3 (ipykernel)",
   "language": "python",
   "name": "python3"
  },
  "language_info": {
   "codemirror_mode": {
    "name": "ipython",
    "version": 3
   },
   "file_extension": ".py",
   "mimetype": "text/x-python",
   "name": "python",
   "nbconvert_exporter": "python",
   "pygments_lexer": "ipython3",
   "version": "3.8.12"
  }
 },
 "nbformat": 4,
 "nbformat_minor": 5
}
