{
 "cells": [
  {
   "cell_type": "markdown",
   "id": "424e8750",
   "metadata": {},
   "source": [
    "## Softeer GBC\n",
    "문제 page: https://softeer.ai/practice/info.do?eventIdx=1&psProblemId=584 <br>\n",
    "문제의 주어진 예시 상황을 도식화 해보면 아래와 같다."
   ]
  },
  {
   "cell_type": "code",
   "execution_count": 4,
   "id": "61be3dbc",
   "metadata": {
    "scrolled": true
   },
   "outputs": [
    {
     "data": {
      "image/png": "[encoded data removed]",
      "text/plain": [
       "<IPython.core.display.Image object>"
      ]
     },
     "execution_count": 4,
     "metadata": {},
     "output_type": "execute_result"
    }
   ],
   "source": [
    "from IPython.display import Image\n",
    "Image('GBC1.png')"
   ]
  },
  {
   "cell_type": "markdown",
   "id": "c7329b80",
   "metadata": {},
   "source": [
    "둘의 속도를 비교하기 위해 그래프를 합쳐보자"
   ]
  },
  {
   "cell_type": "code",
   "execution_count": 5,
   "id": "713806a5",
   "metadata": {
    "scrolled": true
   },
   "outputs": [
    {
     "data": {
      "image/png": "[encoded data removed]",
      "text/plain": [
       "<IPython.core.display.Image object>"
      ]
     },
     "execution_count": 5,
     "metadata": {},
     "output_type": "execute_result"
    }
   ],
   "source": [
    "from IPython.display import Image\n",
    "Image('GBC2.png')"
   ]
  },
  {
   "cell_type": "markdown",
   "id": "dd6f8f3d",
   "metadata": {},
   "source": [
    "그림을 통해 각 구간마다 (제한속도 - 테스트 속도)의 값이 가장 큰 값을 갱신해주면 문제를 해결할 수 있다는 것을 알 수 있다.<br>\n",
    "구간을 나누기 위해 구간과 속도를 list 자료형으로 담아내자<br>\n",
    "제한속도의 구간 = [0, 50, 90, 100]<br>\n",
    "제한속도 = [50, 40, 30]<br>\n",
    "```python\n",
    "limit_dist = [0]\n",
    "limit_v = []\n",
    "for i in range(N):\n",
    "    dist, v = [int(x) for x in input().split()]\n",
    "    limit_dist.append(dist+limit_dist[i])\n",
    "    limit_v.append(v)\n",
    "\n",
    "# 마찬가지로 test의 구간, 속도를 list 자료형으로 담아내자\n",
    "\n",
    "test_dist = [0]\n",
    "test_v = []\n",
    "for i in range(M):\n",
    "    dist , v = [int(x) for x in input().split()]\n",
    "    test_dist.append(dist+test_dist[i])\n",
    "    test_v.append(v)\n",
    "```"
   ]
  },
  {
   "cell_type": "markdown",
   "id": "0fa10fb5",
   "metadata": {},
   "source": [
    "이제 각각의 경우에 따라<br>\n",
    "(test_v[i] - limit_v[i])를 구해 이들의 최대값을 print하면 된다.<br>\n",
    "이중 반복문(i: test, j: limit)를 통해 구현할 수 있을 것 같다.<br>\n",
    "여기서 문제는 test의 구간이 limit의 구간에 속하는지 어떻게 아는 것인가? 이다."
   ]
  },
  {
   "cell_type": "code",
   "execution_count": 9,
   "id": "812c095a",
   "metadata": {
    "scrolled": false
   },
   "outputs": [
    {
     "data": {
      "image/png": "[encoded data removed]",
      "text/plain": [
       "<IPython.core.display.Image object>"
      ]
     },
     "execution_count": 9,
     "metadata": {},
     "output_type": "execute_result"
    }
   ],
   "source": [
    "from IPython.display import Image\n",
    "Image('GBC3.png')"
   ]
  },
  {
   "cell_type": "markdown",
   "id": "766c492c",
   "metadata": {},
   "source": [
    "0부터 50은 0부터 60까지 속하지만 60부터 78까지에는 속하지 않는다.\n",
    "이들을 비교할 수 있는 방안으로 구간의 양 끝을 비교하면 될 것 같다\n",
    "먼저 구간에 속하는 경우는 다음 3가지\n",
    "1. 왼쪽에 걸치는 경우\n",
    "2. 가운데에 속하는 경우\n",
    "3. 오른쪽에 걸치는 경우\n",
    "로 나눌 수 있다"
   ]
  },
  {
   "cell_type": "code",
   "execution_count": 6,
   "id": "875891ec",
   "metadata": {
    "scrolled": true
   },
   "outputs": [
    {
     "data": {
      "image/png": "[encoded data removed]",
      "text/plain": [
       "<IPython.core.display.Image object>"
      ]
     },
     "execution_count": 6,
     "metadata": {},
     "output_type": "execute_result"
    }
   ],
   "source": [
    "from IPython.display import Image\n",
    "Image('GBC4.png')"
   ]
  },
  {
   "cell_type": "markdown",
   "id": "dee9a005",
   "metadata": {},
   "source": [
    "하지만 이 3가지 경우를 수식화하기에는 다소 복잡해 보인다.\n",
    "그러면 구간에 속하지 않는 경우는 어떤 경우가 있을까?"
   ]
  },
  {
   "cell_type": "code",
   "execution_count": 8,
   "id": "11d5f62f",
   "metadata": {
    "scrolled": true
   },
   "outputs": [
    {
     "data": {
      "image/png": "[encoded data removed]",
      "text/plain": [
       "<IPython.core.display.Image object>"
      ]
     },
     "execution_count": 8,
     "metadata": {},
     "output_type": "execute_result"
    }
   ],
   "source": [
    "from IPython.display import Image\n",
    "Image('GBC5.png')"
   ]
  },
  {
   "cell_type": "markdown",
   "id": "e0052234",
   "metadata": {},
   "source": [
    "1. 구간의 왼쪽에 존재\n",
    "2. 구간의 오른쪽에 존재\n",
    "즉.\n",
    "``` python\n",
    "(limit_dist[j+1] <= test_dist[i])  or  (test_dist[i+1] <= limit_dist[j])\n",
    "```\n",
    "# 등호가 들어간다는 점에 주목하자"
   ]
  },
  {
   "cell_type": "markdown",
   "id": "cfb3ce5b",
   "metadata": {},
   "source": [
    "## 해답"
   ]
  },
  {
   "cell_type": "code",
   "execution_count": null,
   "id": "c565c019",
   "metadata": {},
   "outputs": [],
   "source": [
    "N, M = [int(x) for x in input().split()]\n",
    "\n",
    "limit_dist = [0]\n",
    "limit_v = []\n",
    "for i in range(N):\n",
    "    dist, v = [int(x) for x in input().split()]\n",
    "    limit_dist.append(dist+limit_dist[i])\n",
    "    limit_v.append(v)\n",
    "    \n",
    "\n",
    "test_dist = [0]\n",
    "test_v = []\n",
    "for i in range(M):\n",
    "    dist , v = [int(x) for x in input().split()]\n",
    "    test_dist.append(dist+test_dist[i])\n",
    "    test_v.append(v)\n",
    "\n",
    "\n",
    "result = []\n",
    "for i in range(M):\n",
    "    for j in range(N):\n",
    "        if limit_dist[j+1]  <= test_dist[i]: # test가 limit보다 오른쪽에 있는 경우\n",
    "            continue \n",
    "        elif test_dist[i+1] <= limit_dist[j]: # test가 limit보다 왼쪽에 있는 경우\n",
    "            continue\n",
    "        else:\n",
    "\n",
    "            result.append(test_v[i] - limit_v[j]) \n",
    "            \n",
    "\n",
    "max_v = max(result)\n",
    "print(max(max_v, 0))"
   ]
  }
 ],
 "metadata": {
  "kernelspec": {
   "display_name": "Python 3 (ipykernel)",
   "language": "python",
   "name": "python3"
  },
  "language_info": {
   "codemirror_mode": {
    "name": "ipython",
    "version": 3
   },
   "file_extension": ".py",
   "mimetype": "text/x-python",
   "name": "python",
   "nbconvert_exporter": "python",
   "pygments_lexer": "ipython3",
   "version": "3.8.12"
  }
 },
 "nbformat": 4,
 "nbformat_minor": 5
}
