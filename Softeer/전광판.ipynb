{
 "cells": [
  {
   "cell_type": "markdown",
   "id": "63c23e2b",
   "metadata": {},
   "source": [
    "### Softeer 전광판\n",
    "문제 page: https://softeer.ai/practice/info.do?eventIdx=1&psProblemId=624 <br>"
   ]
  },
  {
   "cell_type": "markdown",
   "id": "626abcbd",
   "metadata": {},
   "source": [
    "문제의 기본적인 아이디어는 A와 B를 각각의 자리수에 해당하는 숫자와 서로 비교하여 \n",
    "count를 해주는 것이다.<br>\n",
    "이를 위해서 0부터 9까지 각각의 숫자, 그리고 불이 꺼져있는 경우에 대해 스위치를 눌러야 하는 최소 횟수를 일일이 하드코딩하는 방법이 가장 먼저 떠오를 것이다. <br>\n",
    "예를 들어 <br>\n",
    "1) 1 <-> 2 = 5 <br>\n",
    "2) 1 <-> 4 = 2 <br>\n",
    "... <br>\n",
    "등 0부터 9까지의 모든 조합의 경우의 수를 따지면 문제를 풀 수는 있을 것 같다. <br>\n",
    "하지만 이러한 하드코딩이 알고리즘 문제의 해결방안으로 주어질 것 같진 않다...<br>\n",
    "당장 경우의 수만 따지더라도 $${11 \\choose 2}= 55$$\n",
    "이므로 모든 case에 대해 타이핑하는 것도 힘들다."
   ]
  },
  {
   "cell_type": "markdown",
   "id": "d8b6507a",
   "metadata": {},
   "source": [
    "그렇다면 문제를 어떻게 풀어야할까? <br>\n",
    "이는 각각의 스위치가 독립적으로 이루어졌다는 점에 주목을 해야한다.<br>"
   ]
  },
  {
   "cell_type": "code",
   "execution_count": 3,
   "id": "31c381dc",
   "metadata": {
    "scrolled": false
   },
   "outputs": [
    {
     "data": {
      "image/png": "[encoded data removed]",
      "text/plain": [
       "<IPython.core.display.Image object>"
      ]
     },
     "execution_count": 3,
     "metadata": {},
     "output_type": "execute_result"
    }
   ],
   "source": [
    "from IPython.display import Image\n",
    "Image('전광판1.png')"
   ]
  },
  {
   "cell_type": "markdown",
   "id": "3aa41cd1",
   "metadata": {},
   "source": [
    "이를 전광판의 불빛이 켜진 경우 1, 꺼진 경우 0으로 modeling을 하면 각각의 숫자를 표현할 수 있다<br>\n",
    "즉 숫자 1의 경우 3번과 7번 불빛이 들어온 경우이므로 0010001로 표현할 수 있다. <br>\n",
    "이제 불빛의 스위치로 치환된 숫자 리스트를 통해 A와 B를 각각 비교하면 문제를 구할 수 있을 것 같다. <br>\n",
    "주의해야할 점은 문제에서도 나오듯 전광판의 불빛이 모두 꺼져있는 경우(특정 자리수의 숫자가 존재 x)도 고려해야 한다는 점이다."
   ]
  },
  {
   "cell_type": "markdown",
   "id": "7a507713",
   "metadata": {},
   "source": [
    "## 해답"
   ]
  },
  {
   "cell_type": "code",
   "execution_count": 4,
   "id": "78a3845a",
   "metadata": {},
   "outputs": [
    {
     "name": "stdout",
     "output_type": "stream",
     "text": [
      "2\n",
      "1 2\n",
      "9881 10724\n",
      "5\n",
      "11\n"
     ]
    }
   ],
   "source": [
    "T = int(input())\n",
    "lights = {\n",
    "    '0': '1110111',\n",
    "    '1': '0010001',\n",
    "    '2': '0111110',\n",
    "    '3': '0111011',\n",
    "    '4': '1011001',\n",
    "    '5': '1101011',\n",
    "    '6': '1101111',\n",
    "    '7': '1110001',\n",
    "    '8': '1111111',\n",
    "    '9': '1111011',\n",
    "    ' ': '0000000'\n",
    "}\n",
    "q = []\n",
    "for _ in range(T):\n",
    "    A, B = [x for x in input().split()]\n",
    "    while len(A) < 5:\n",
    "        A = ' ' + A\n",
    "    while len(B) < 5:\n",
    "        B = ' ' + B\n",
    "    q.append((A, B))\n",
    "\n",
    "counts = [0] * T\n",
    "for i in range(len(q)):\n",
    "    digit_A, digit_B = q[i][0], q[i][1]\n",
    "    for j in range(5):\n",
    "        light_A, light_B = lights[digit_A[j]],  lights[digit_B[j]]\n",
    "        for k in range(len(light_A)):\n",
    "            if light_A[k] != light_B[k]:\n",
    "                counts[i] +=1\n",
    "\n",
    "for count in counts:\n",
    "    print(count)\n",
    "        \n",
    "    \n",
    "    "
   ]
  }
 ],
 "metadata": {
  "kernelspec": {
   "display_name": "Python 3 (ipykernel)",
   "language": "python",
   "name": "python3"
  },
  "language_info": {
   "codemirror_mode": {
    "name": "ipython",
    "version": 3
   },
   "file_extension": ".py",
   "mimetype": "text/x-python",
   "name": "python",
   "nbconvert_exporter": "python",
   "pygments_lexer": "ipython3",
   "version": "3.8.12"
  }
 },
 "nbformat": 4,
 "nbformat_minor": 5
}
