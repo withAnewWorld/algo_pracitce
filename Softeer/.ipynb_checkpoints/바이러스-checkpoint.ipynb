{
 "cells": [
  {
   "cell_type": "code",
   "execution_count": 6,
   "id": "97dab033",
   "metadata": {},
   "outputs": [
    {
     "name": "stdout",
     "output_type": "stream",
     "text": [
      "2 3 2\n",
      "18\n"
     ]
    }
   ],
   "source": [
    "# 시간제한\n",
    "\n",
    "\n",
    "\n",
    "K, P, N = [int(x) for x in input().split()]\n",
    "\n",
    "def power(a, b):\n",
    "    if b==0:\n",
    "        return 1\n",
    "    elif b==1:\n",
    "        return a\n",
    "    else:\n",
    "        if b%2 == 0:\n",
    "            return power(a, b//2)**2\n",
    "        else:\n",
    "            return (power(a, (b-1)//2)**2)*a\n",
    "\n",
    "print(K*power(P, N)%1000000007)"
   ]
  }
 ],
 "metadata": {
  "kernelspec": {
   "display_name": "Python 3 (ipykernel)",
   "language": "python",
   "name": "python3"
  },
  "language_info": {
   "codemirror_mode": {
    "name": "ipython",
    "version": 3
   },
   "file_extension": ".py",
   "mimetype": "text/x-python",
   "name": "python",
   "nbconvert_exporter": "python",
   "pygments_lexer": "ipython3",
   "version": "3.8.12"
  }
 },
 "nbformat": 4,
 "nbformat_minor": 5
}
