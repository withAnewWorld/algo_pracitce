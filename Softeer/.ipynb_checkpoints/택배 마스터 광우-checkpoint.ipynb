{
 "cells": [
  {
   "cell_type": "markdown",
   "id": "e11d483c",
   "metadata": {},
   "source": [
    "## 택배 마스터 광우\n",
    "문제 page: https://softeer.ai/practice/info.do?eventIdx=1&psProblemId=581&sw_prbl_sbms_sn=64051 <br>"
   ]
  },
  {
   "cell_type": "markdown",
   "id": "0eb248f3",
   "metadata": {},
   "source": [
    "알고리즘 유형: 완전탐색 <br>\n",
    "\n",
    "문제를 보자마자 떠올렸을 알고리즘은 다음과 같으실 것입니다. <br>\n",
    "\n",
    "```python\n",
    "if now_weight + next_weight > M:\n",
    "    work += 1\n",
    "    \n",
    "if work >= K:\n",
    "    min_work = min(min_work, sum(weights))\n",
    "    \n",
    "print(min_work)\n",
    "```\n",
    "중요한 건 위의 알고리즘의 경우 모든 리스트를 섞는 경우의 수(순열)에 대해서 작동해야 합니다. <br>\n",
    "근데 그렇게 하면 됩니다.(?) <br>"
   ]
  },
  {
   "cell_type": "code",
   "execution_count": null,
   "id": "a442ae60",
   "metadata": {},
   "outputs": [],
   "source": [
    "from itertools import permutations\n",
    "import math\n",
    "N, M, K = [int(x) for x in input().split()]\n",
    "array =[int(x) for x in input().split()]\n",
    "\n",
    "min_work = math.inf\n",
    "for sample in list(permutations(array)):\n",
    "    now = 0\n",
    "    weight = []\n",
    "    work = 0\n",
    "    while work < K:\n",
    "        for e in sample:\n",
    "            if work >= K:\n",
    "                break\n",
    "            if now + e > M:\n",
    "                work += 1\n",
    "                weight.append(now)\n",
    "                now = e\n",
    "            else:\n",
    "                now += e\n",
    "    if min_work > sum(weight):\n",
    "        min_work = sum(weight)\n",
    "\n",
    "print(min_work)\n",
    "        "
   ]
  }
 ],
 "metadata": {
  "kernelspec": {
   "display_name": "Python 3 (ipykernel)",
   "language": "python",
   "name": "python3"
  },
  "language_info": {
   "codemirror_mode": {
    "name": "ipython",
    "version": 3
   },
   "file_extension": ".py",
   "mimetype": "text/x-python",
   "name": "python",
   "nbconvert_exporter": "python",
   "pygments_lexer": "ipython3",
   "version": "3.8.12"
  }
 },
 "nbformat": 4,
 "nbformat_minor": 5
}
