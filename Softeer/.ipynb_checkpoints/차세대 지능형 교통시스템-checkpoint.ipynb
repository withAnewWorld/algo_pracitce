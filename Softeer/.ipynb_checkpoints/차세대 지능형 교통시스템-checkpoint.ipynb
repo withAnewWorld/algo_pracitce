{
 "cells": [
  {
   "cell_type": "code",
   "execution_count": 34,
   "id": "1a4e6727",
   "metadata": {},
   "outputs": [
    {
     "data": {
      "text/plain": [
       "{1: [[False], [False]]}"
      ]
     },
     "execution_count": 34,
     "metadata": {},
     "output_type": "execute_result"
    }
   ],
   "source": [
    "# 실패\n",
    "\n",
    "N, T = [int(x) for x in input().split()]\n",
    "\n",
    "# path = [(-1, 0), (0, 1), (1, 0), (0, -1), (-1, 1), (1, 1), (-1, -1), (1, -1)] # 북0 동1 남2 서3, 북동4, 남동5, 북서6, 남서7\n",
    "# 회전에 속지 말자\n",
    "path = [(-1, 0), (0, 1), (1, 0), (0, -1)] # 북0 동1 남2 서3\n",
    "signs={}\n",
    "signs[1]=[path[0], path[1], path[2]]\n",
    "signs[2]=[path[3], path[0], path[1]]\n",
    "signs[3]=[path[0], path[3], path[2]]\n",
    "signs[4]=[path[3], path[2], path[1]]\n",
    "signs[5]=[path[1], path[0]]\n",
    "signs[6]=[path[0], path[3]]\n",
    "signs[7]=[path[3], path[2]]\n",
    "signs[8]=[path[2], path[1]]\n",
    "signs[9]=[path[1], path[2]]\n",
    "signs[10]=[path[0], path[1]]\n",
    "signs[11]=[path[3], path[0]]\n",
    "signs[12]=[path[2], path[3]]\n",
    "\n",
    "visited = {}\n",
    "inter = {}\n",
    "for row in range(N):\n",
    "    visited[row+1] = []\n",
    "    for col in range(N):\n",
    "        visited[row+1].append([False])\n",
    "        \n",
    "        t1, t2, t3, t4 = [int(x) for x in input().split()]\n",
    "        inter[(row+1, col+1)] = []\n",
    "        inter[(row+1, col+1)].append(signs[t1])\n",
    "        inter[(row+1, col+1)].append(signs[t2])\n",
    "        inter[(row+1, col+1)].append(signs[t3])\n",
    "        inter[(row+1, col+1)].append(signs[t4])\n",
    "        \n",
    "    visited[row+1].append([False]) # 0 index 버림\n",
    "        \n",
    "nx, ny, time = 1, 1, 0\n",
    "stack = [(nx, ny, time)]\n",
    "count = 1\n",
    "while stack:\n",
    "    nx, ny, time = stack[-1]\n",
    "    move = inter[(nx, ny)][time%4]\n",
    "    for move_x, move_y in move:\n",
    "        x = nx+move_x\n",
    "        y = ny+move_y\n",
    "        \n",
    "        # print('nx: ', nx, 'ny: ', ny, 'next x: ', x, 'next y: ', y, 'time: ', time,'count: ', count)\n",
    "        \n",
    "        if x>=1 and x<=N and y>=1 and y<=N and visited[x][y] == [False] and time<T:\n",
    "            visited[x][y] = [True]\n",
    "            nx, ny = x, y\n",
    "            count += 1\n",
    "            time += 1\n",
    "            stack.append((nx, ny, time))\n",
    "            break\n",
    "        if (move_x, move_y) == move[-1]:\n",
    "            stack.pop()\n",
    "            \n",
    "print(count)\n",
    "            "
   ]
  },
  {
   "cell_type": "code",
   "execution_count": 36,
   "id": "e36e7b3d",
   "metadata": {},
   "outputs": [
    {
     "data": {
      "text/plain": [
       "[[False], [False]]"
      ]
     },
     "execution_count": 36,
     "metadata": {},
     "output_type": "execute_result"
    }
   ],
   "source": [
    "# 2nd try 실패\n",
    "# 처음 신호 2, 10번만 받음\n",
    "N, T = [int(x) for x in input().split()]\n",
    "move = [(0, 1), (0, -1), (1, 0), (-1, 0)] # 동0 서1 남2 북3\n",
    "\n",
    "signal = {}\n",
    "signal[1] = [move[3], move[0], move[2]]\n",
    "signal[2] = [move[1], move[3], move[0]]\n",
    "signal[3] = [move[3], move[1], move[2]]\n",
    "signal[4] = [move[1], move[2], move[0]]\n",
    "signal[5] = [move[3], move[0]]\n",
    "signal[6] = [move[1], move[3]]\n",
    "signal[7] = [move[1], move[2]]\n",
    "signal[8] = [move[2], move[0]]\n",
    "signal[9] = [move[0], move[2]]\n",
    "signal[10] = [move[3], move[0]]\n",
    "signal[11] = [move[3], move[1]]\n",
    "signal[12] = [move[1], move[2]]\n",
    "\n",
    "inter = {}\n",
    "visited = {}\n",
    "for row in range(1, N+1):\n",
    "    for col in range(1, N+1):\n",
    "        s_1, s_2, s_3, s_4 = [int(x) for x in input().split()]\n",
    "        inter[(row, col)] = [signal[s_1], signal[s_2], signal[s_3], signal[s_4]]\n",
    "        visited[(row, col)] = False\n",
    "\n",
    "\n",
    "signals = inter[(1, 1)]\n",
    "for t in range(4):\n",
    "    if signals[t%4] == (signal[2] or signal[10]):\n",
    "        stack = [(1, 2, t+1)]\n",
    "        visited[(1, 1)] = True\n",
    "        count = 2\n",
    "        break\n",
    "        \n",
    "if visited[(1, 1)] == False:\n",
    "    stack = []\n",
    "    count = 1\n",
    "        \n",
    "    \n",
    "while stack:\n",
    "    nx, ny, t = stack[-1]\n",
    "    signals = inter[(nx, ny)]\n",
    "    for move_x, move_y in signals[t%4]:\n",
    "        print('nx: ', nx, 'ny: ', ny, 'next_x: ', nx+move_x, 'next_y: ', ny+move_y, 'time: ', t, 'count: ', count)\n",
    "        if t >= T:\n",
    "            stack.pop()\n",
    "            break\n",
    "        x = nx + move_x\n",
    "        y = ny + move_y\n",
    "        if x>=1 and x<= N and y>=1 and y<=N and visited[(x, y)] == False:\n",
    "            nx, ny = x, y\n",
    "            count += 1\n",
    "            visited[(nx, ny)] = True\n",
    "            t += 1\n",
    "            stack.append((nx, ny, t))\n",
    "            break\n",
    "        if (move_x, move_y) == signals[t%4][-1]:\n",
    "            stack.pop()\n",
    "print(count)"
   ]
  }
 ],
 "metadata": {
  "kernelspec": {
   "display_name": "Python 3 (ipykernel)",
   "language": "python",
   "name": "python3"
  },
  "language_info": {
   "codemirror_mode": {
    "name": "ipython",
    "version": 3
   },
   "file_extension": ".py",
   "mimetype": "text/x-python",
   "name": "python",
   "nbconvert_exporter": "python",
   "pygments_lexer": "ipython3",
   "version": "3.8.12"
  }
 },
 "nbformat": 4,
 "nbformat_minor": 5
}
