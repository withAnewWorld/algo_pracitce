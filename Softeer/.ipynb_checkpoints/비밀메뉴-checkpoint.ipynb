{
 "cells": [
  {
   "cell_type": "markdown",
   "id": "ce5ea0aa",
   "metadata": {},
   "source": [
    "## Softeer 비밀메뉴\n",
    "문제 page: https://softeer.ai/practice/info.do?eventIdx=1&psProblemId=623 <br>\n",
    "."
   ]
  },
  {
   "cell_type": "markdown",
   "id": "b0637378",
   "metadata": {},
   "source": [
    "문제 풀이 알고리즘: slicing <br>\n",
    "버튼의 i번째 버튼부터 i+M까지 slicing을 하여 secret button과 같은지 확인한다. <br>\n",
    "이 때 버튼의 마지막 index를 넘어가면 안되므로 이에 대한 처리가 필요하다"
   ]
  },
  {
   "cell_type": "code",
   "execution_count": 6,
   "id": "982c81e7",
   "metadata": {},
   "outputs": [
    {
     "data": {
      "image/png": "[encoded data removed]",
      "text/plain": [
       "<IPython.core.display.Image object>"
      ]
     },
     "execution_count": 6,
     "metadata": {},
     "output_type": "execute_result"
    }
   ],
   "source": [
    "from IPython.display import Image\n",
    "Image('비밀메뉴1.png')"
   ]
  },
  {
   "cell_type": "code",
   "execution_count": 7,
   "id": "eadb68f7",
   "metadata": {},
   "outputs": [
    {
     "name": "stdout",
     "output_type": "stream",
     "text": [
      "3 10 5\n",
      "1 4 5\n",
      "3 3 1 2 4 1 4 5 1 4\n",
      "i:  5\n",
      "secret\n"
     ]
    }
   ],
   "source": [
    "# 정답\n",
    "M, N, K =[int(x) for x in input().split()]\n",
    "secret = [int(x) for x in input().split()]\n",
    "button = [int(x) for x in input().split()]\n",
    "\n",
    "if N < M:\n",
    "    print('normal')\n",
    "else:\n",
    "    is_secret = False\n",
    "    for i in range(N-M+1):\n",
    "        if secret == button[i:i+M]:\n",
    "            print('i: ', i) # <- 제출할 때 삭제\n",
    "            is_secret = True\n",
    "            break\n",
    "\n",
    "    if is_secret:\n",
    "        print('secret')\n",
    "    else:\n",
    "        print('normal')"
   ]
  }
 ],
 "metadata": {
  "kernelspec": {
   "display_name": "Python 3 (ipykernel)",
   "language": "python",
   "name": "python3"
  },
  "language_info": {
   "codemirror_mode": {
    "name": "ipython",
    "version": 3
   },
   "file_extension": ".py",
   "mimetype": "text/x-python",
   "name": "python",
   "nbconvert_exporter": "python",
   "pygments_lexer": "ipython3",
   "version": "3.8.12"
  }
 },
 "nbformat": 4,
 "nbformat_minor": 5
}
