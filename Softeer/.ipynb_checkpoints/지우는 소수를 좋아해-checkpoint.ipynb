{
 "cells": [
  {
   "cell_type": "markdown",
   "id": "a118135e",
   "metadata": {},
   "source": [
    "## Softeer 지우는 소수를 좋아해\n",
    "문제 page: https://softeer.ai/practice/info.do?eventIdx=1&psProblemId=582&sw_prbl_sbms_sn=64055 <br>"
   ]
  },
  {
   "cell_type": "markdown",
   "id": "687fd567",
   "metadata": {},
   "source": [
    "문제유형: 다익스트라<br>\n",
    "\n",
    "```python\n",
    "# 일반적인 다익스트라 알고리즘\n",
    "if 현재 cost > 경유 cost:\n",
    "    현재 cost = 경유 cost\n",
    "```\n",
    "다만 문제에서는 현재 cost를 누적해서 더해나가는 최단경로 문제가 아닌 경로상에서 주어진 cost 중 max값을 찾는 문제입니다."
   ]
  },
  {
   "cell_type": "code",
   "execution_count": 3,
   "id": "b9e9fd6d",
   "metadata": {
    "scrolled": true
   },
   "outputs": [
    {
     "data": {
      "image/png": "[encoded data removed]",
      "text/plain": [
       "<IPython.core.display.Image object>"
      ]
     },
     "execution_count": 3,
     "metadata": {},
     "output_type": "execute_result"
    }
   ],
   "source": [
    "from IPython.display import Image\n",
    "Image('지우는소수를좋아해1.png')"
   ]
  },
  {
   "cell_type": "markdown",
   "id": "c868aaba",
   "metadata": {},
   "source": [
    "즉 비교를 할 때 costs[node] + now 가 아닌 max(costs[node], now)를 통해 값을 갱신해나가야 합니다.<br>\n",
    "또한 정답의 경우 문제 조건에 따라 N번 체육관에 도달하기 위한 레벨보다 높은 소수로 출력을 해줘야 합니다. <br>"
   ]
  },
  {
   "cell_type": "markdown",
   "id": "5c3b812d",
   "metadata": {},
   "source": [
    "ref: https://www.youtube.com/watch?v=cswJ1h-How0&list=PLRx0vPvlEmdAghTr5mXQxGpHjWqSz0dgC&index=9 소수 판별 알고리즘<br>\n",
    "소수 판별 알고리즘 <br>\n",
    "소수: 1과 자기 자신외에 나누어 떨어지지 않는 수 <br>\n",
    "소수의 정의에 따라 알고리즘을 작성하면 됩니다.\n",
    "```python\n",
    "def isPrime(n):\n",
    "    if n==1:\n",
    "        return True\n",
    "    if n==2:\n",
    "        return False\n",
    "    for i in range(2, n):\n",
    "        if n%i == 0:\n",
    "            return False\n",
    "    return True\n",
    "```\n",
    "Tip) 특정한 수 n은 $sqrt{n}$ 이하인 수와 $sqrt{n}$ 이상인 수의 곱으로 이루어져 있습니다. <br>\n",
    "따라서 n을 반으로 갈라 $sqrt{n}$이하 까지만 나누어 떨어지는지 검사를 해줘도 소수판별을 할 수 있습니다. <br>\n",
    "ex) 16 = 1 x 16, 2 x 8, 4 x 4 <br>\n",
    "```python\n",
    "# speed up version\n",
    "def isPrime(n):\n",
    "    if n==1:\n",
    "        return True\n",
    "    if n==2:\n",
    "        return False\n",
    "    for i in range(2, int(sqrt(n))+1):\n",
    "        if n%i == 0:\n",
    "            return False\n",
    "    return True\n",
    "```\n",
    "\n"
   ]
  },
  {
   "cell_type": "markdown",
   "id": "8cfe265b",
   "metadata": {},
   "source": [
    "cf) 해당 문제의 경우 다익스트라 알고리즘을 heapq을 이용해서 짜지 않을 시에 시간 제한에 걸리게 됩니다. <br>\n",
    "시간 제한에 걸려서 sys.stdin.readline(), 소수판별 알고리즘 개선 등 다양한 방법을 사용했지만 결국 heapq를 사용하지 않은 것이 문제였습니다.."
   ]
  },
  {
   "cell_type": "code",
   "execution_count": 4,
   "id": "a11b6fff",
   "metadata": {},
   "outputs": [
    {
     "name": "stdout",
     "output_type": "stream",
     "text": [
      "10 13\n",
      "1 2 5\n",
      "1 3 1\n",
      "1 4 2\n",
      "2 5 5\n",
      "3 5 4\n",
      "3 6 1\n",
      "4 6 1\n",
      "4 7 3\n",
      "5 8 5\n",
      "6 9 4\n",
      "7 9 2\n",
      "8 10 5\n",
      "9 10 3\n",
      "5\n"
     ]
    }
   ],
   "source": [
    "import math\n",
    "import heapq\n",
    "N, M = [int(x) for x in input().split()]\n",
    "\n",
    "visited = [False]*(N+1) # Not use 0 index\n",
    "costs = [math.inf]*(N+1) # Not use 0 index\n",
    "graph = {}\n",
    "for i in range(1, N+1):\n",
    "    graph[i] = []\n",
    "for _ in range(M):\n",
    "    a, b, c = [int(x) for x in input().split()]\n",
    "    graph[a].append( (b, c) )\n",
    "    graph[b].append( (a, c) )\n",
    "    \n",
    "def min_cost_graph(s_node):\n",
    "    costs[s_node] = 0\n",
    "    # for node, cost in graph[s_node]:\n",
    "    #     costs[node] = cost\n",
    "    q = []\n",
    "    heapq.heappush(q, (costs[s_node], s_node))\n",
    "    while q:\n",
    "        _, now = heapq.heappop(q)\n",
    "        visited[now] = True\n",
    "\n",
    "        for node, cost in graph[now]:\n",
    "            if costs[node] > max(costs[now], cost):\n",
    "                costs[node] = max(costs[now], cost)\n",
    "                heapq.heappush(q, (costs[node], node))\n",
    "\n",
    "min_cost_graph(1)\n",
    "def isPrime(n):\n",
    "    if n == 1:\n",
    "        return True\n",
    "    if n == 2:\n",
    "        return False\n",
    "    for i in range(2, int(math.sqrt(n))+1):\n",
    "        if n%i==0:\n",
    "            return False\n",
    "    return True\n",
    "\n",
    "costs[-1] += 1\n",
    "while isPrime(costs[-1]) != True:\n",
    "    costs[-1] += 1\n",
    "print(costs[-1])\n"
   ]
  },
  {
   "cell_type": "code",
   "execution_count": null,
   "id": "ad7a50b9",
   "metadata": {},
   "outputs": [],
   "source": [
    "# 시간 제한\n",
    "import math\n",
    "from collections import deque\n",
    "import heapq\n",
    "N, M = [int(x) for x in input().split()]\n",
    "\n",
    "visited = [False]*(N+1) # Not use 0 index\n",
    "costs = [math.inf]*(N+1) # Not use 0 index\n",
    "graph = {}\n",
    "for i in range(1, N+1):\n",
    "    graph[i] = []\n",
    "for _ in range(M):\n",
    "    a, b, c = [int(x) for x in input().split()]\n",
    "    graph[a].append( (b, c) )\n",
    "    graph[b].append( (a, c) )\n",
    "    \n",
    "def min_cost_graph(s_node):\n",
    "    costs[s_node] = 0\n",
    "    # for node, cost in graph[s_node]:\n",
    "    #     costs[node] = cost\n",
    "    q = deque([s_node])\n",
    "    while q:\n",
    "        now = q.popleft()\n",
    "        visited[now] = True\n",
    "\n",
    "        for node, cost in graph[now]:\n",
    "            if costs[node] > max(costs[now], cost):\n",
    "                costs[node] = max(costs[now], cost)\n",
    "        \n",
    "        min_value = math.inf\n",
    "        min_idx = None\n",
    "        for i in range(1, N+1):\n",
    "            if visited[i] == False:\n",
    "                if min_value > costs[i]:\n",
    "                    min_value = costs[i]\n",
    "                    min_idx = i\n",
    "        if min_idx is not None:\n",
    "            q.append(min_idx)\n",
    "            \n",
    "min_cost_graph(1)\n",
    "def isPrime(n):\n",
    "    if n == 1:\n",
    "        return True\n",
    "    if n == 2:\n",
    "        return False\n",
    "    for i in range(2, int(math.sqrt(n))+1):\n",
    "        if n%i==0:\n",
    "            return False\n",
    "    return True\n",
    "\n",
    "costs[-1] += 1\n",
    "while isPrime(costs[-1]) != True:\n",
    "    costs[-1] += 1\n",
    "print(costs[-1])\n"
   ]
  }
 ],
 "metadata": {
  "kernelspec": {
   "display_name": "Python 3 (ipykernel)",
   "language": "python",
   "name": "python3"
  },
  "language_info": {
   "codemirror_mode": {
    "name": "ipython",
    "version": 3
   },
   "file_extension": ".py",
   "mimetype": "text/x-python",
   "name": "python",
   "nbconvert_exporter": "python",
   "pygments_lexer": "ipython3",
   "version": "3.8.12"
  }
 },
 "nbformat": 4,
 "nbformat_minor": 5
}
