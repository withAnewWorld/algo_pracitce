{
 "cells": [
  {
   "cell_type": "markdown",
   "id": "9b1f3b48",
   "metadata": {},
   "source": [
    "## Softeer 조립라인\n",
    "문제 page: https://softeer.ai/practice/info.do?eventIdx=1&psProblemId=403 <br>"
   ]
  },
  {
   "cell_type": "markdown",
   "id": "3c5a7e3d",
   "metadata": {},
   "source": [
    "알고리즘 문제에서 가장 많은 or 적은, 가장 빠른 or 빠른등과 같은 문제는 dynamic programming(dp)문제가 많은 것 같다. <br>\n",
    "조립라인도 dp를 통해서 풀 수 있다. <br>\n",
    "조립라인의 핵심은 A에서 조립하는 경우와 B에서 조립하는 경우를 분리해야 하는 점이다. <br>\n",
    "즉 A에서 조립할 때 최소 시간, B에서 조립할 때 최소 시간을 bottom-up방식으로 계속 구해준 후 마지막 결과값으로 어느 작업장에서 조립할 때 최소 시간을 갖는지 구해주면 된다.<br>\n",
    "A작업장의 i번째 경우를 예로 들어보면  <br>\n",
    "<br>\n",
    "1) A[i-1]에서 작업한 최소시간 <br>\n",
    "2) B[i-1]에서 작업한 최소시간 + B에서 A까지 이동 시간 <br>\n",
    "1)과 2)를 비교한 후 <br>\n",
    "3) A[i]의 작업시간을 더해주면 된다. <br>\n",
    "<br>\n",
    "마찬가지로 B작업장의 i번째 경우도 갱신해준다. <br>\n",
    "그러면 최종 결과값은 다음과 같이 이루어질 것이다. <br>\n",
    "[$A_{n}$작업장에서 작업을 끝마칠 때 최소시간, $B_{n}$작업장에서 작업을 끝마칠 때 최소시간]"
   ]
  },
  {
   "cell_type": "code",
   "execution_count": null,
   "id": "9b64daa2",
   "metadata": {},
   "outputs": [],
   "source": [
    "N = int(input())\n",
    "work_time = [ [], [] ]\n",
    "move_time = [ [], [] ]\n",
    "for _ in range(N-1):\n",
    "    A, B, A_B, B_A = [int(x) for x in input().split()]\n",
    "    work_time[0].append(A)\n",
    "    work_time[1].append(B)\n",
    "    move_time[0].append(A_B)\n",
    "    move_time[1].append(B_A)\n",
    "A, B = [int(x) for x in input().split()]\n",
    "work_time[0].append(A)\n",
    "work_time[1].append(B)\n",
    "\n",
    "dp = [[work_time[0][0]], [work_time[1][0]]]\n",
    "\n",
    "\n",
    "for i in range(1, N):\n",
    "    dp[0].append(min(dp[0][i-1], dp[1][i-1]+move_time[1][i-1]) + work_time[0][i])\n",
    "    dp[1].append(min(dp[1][i-1], dp[0][i-1]+move_time[0][i-1]) + work_time[1][i])\n",
    "\n",
    "print(min(dp[0][-1], dp[1][-1]))"
   ]
  }
 ],
 "metadata": {
  "kernelspec": {
   "display_name": "Python 3 (ipykernel)",
   "language": "python",
   "name": "python3"
  },
  "language_info": {
   "codemirror_mode": {
    "name": "ipython",
    "version": 3
   },
   "file_extension": ".py",
   "mimetype": "text/x-python",
   "name": "python",
   "nbconvert_exporter": "python",
   "pygments_lexer": "ipython3",
   "version": "3.8.12"
  }
 },
 "nbformat": 4,
 "nbformat_minor": 5
}
