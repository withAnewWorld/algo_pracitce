{
 "cells": [
  {
   "cell_type": "code",
   "execution_count": null,
   "id": "46f031e0",
   "metadata": {},
   "outputs": [],
   "source": [
    "# 오답\n",
    "# 최장 증가 부분 수열\n",
    "N = int(input())\n",
    "\n",
    "stones = [int(x) for x in input().split()]\n",
    "stones.insert(0, -1) # not use 0 index\n",
    "dp = [1]*(N) \n",
    "dp.insert(0, -1) # not use 0 index\n",
    "for i in range(1, N):\n",
    "    now = stones[i]\n",
    "    for j in range(i+1, N+1):\n",
    "        if now < stones[j]:\n",
    "            dp[i] += 1\n",
    "            now = stones[j]\n",
    "    \n",
    "print(max(dp))\n",
    "                "
   ]
  },
  {
   "cell_type": "code",
   "execution_count": null,
   "id": "86a3a36f",
   "metadata": {},
   "outputs": [],
   "source": [
    "# 정답\n",
    "# 최장증가부분수열\n",
    "import sys\n",
    "N = int(input())\n",
    "array = [int(x) for x in input().split()]\n",
    "dp = [1]*N\n",
    "for j in range(1, N):\n",
    "    for i in range(j):\n",
    "        if array[i] < array[j]:\n",
    "            dp[j] = max(dp[j], dp[i]+1)\n",
    "print(max(dp))\n",
    "    "
   ]
  }
 ],
 "metadata": {
  "kernelspec": {
   "display_name": "Python 3 (ipykernel)",
   "language": "python",
   "name": "python3"
  },
  "language_info": {
   "codemirror_mode": {
    "name": "ipython",
    "version": 3
   },
   "file_extension": ".py",
   "mimetype": "text/x-python",
   "name": "python",
   "nbconvert_exporter": "python",
   "pygments_lexer": "ipython3",
   "version": "3.8.12"
  }
 },
 "nbformat": 4,
 "nbformat_minor": 5
}
