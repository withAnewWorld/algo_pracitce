{
 "cells": [
  {
   "cell_type": "markdown",
   "id": "3d48fa96",
   "metadata": {},
   "source": [
    "## Softeer 장애물 인식 프로그램\n",
    "문제 page: https://softeer.ai/practice/info.do?eventIdx=1&psProblemId=409 <br>\n",
    "전형적인 graph 탐색 알고리즘 문제이다."
   ]
  },
  {
   "cell_type": "markdown",
   "id": "3a29573e",
   "metadata": {},
   "source": [
    "1. 장애물이 1로만 표시되므로 그래프의 행과 열을 탐색하다 1이 나올경우 dfs 또는 bfs 알고리즘을 적용한다.\n",
    "2. 탐색을 할 때 1이 나오면 count를 갱신해준다.\n",
    "3. count를 list에 담는다.\n",
    "4. list를 sort해서 print한다.<br>\n",
    "    두가지 방법<br>\n",
    "    1) sorted(list) <br>\n",
    "    2) list.sort()"
   ]
  },
  {
   "cell_type": "markdown",
   "id": "2b360101",
   "metadata": {},
   "source": [
    "## dfs(using stack)\n",
    "0. 초기화<br>\n",
    "    stack에 초기 노드의 x, y 좌표를 push한다.<br>\n",
    "    초기 노드를 방문 처리한다.\n",
    "        cf) 방문 처리의 경우 여러가지가 있는데 여기서는 해당 graph의 값을 0으로 바꿔준다.(왜냐하면 graph의 값이 0인 경우는 애초에 방문하지 않으므로)\n",
    "1. graph와 연결되어 있는 노드를 탐색한다 (문제의 경우 동서남북이 적합)\n",
    "2. 1) if 탐색한 노드가 조건에 부합할 경우 해당 노드(좌표)를 stack에 push한다.\n",
    "2. 2) else (탐색 결과) 조건에 부합한 노드가 없을 경우 탐색에 쓰인 좌표를 pop한다.\n",
    "3. stack에 원소가 없을 때까지 반복한다.<br>\n",
    "\n",
    "사실 dfs는 재귀적으로 구현하는 것이 일반적으로 더 좋은 것 같다. (시간 복잡도 등)"
   ]
  },
  {
   "cell_type": "code",
   "execution_count": null,
   "id": "922b1836",
   "metadata": {},
   "outputs": [],
   "source": [
    "# 장애물 인식 프로그램\n",
    "def dfs(Map, nx, ny):\n",
    "    obstacle = 1\n",
    "    move = [(-1, 0), (0, 1), (1, 0), (0, -1) ] # 북 동 남 서\n",
    "    stack = []\n",
    "    stack.append((nx, ny))\n",
    "    Map[nx][ny] = 0\n",
    "    while stack:\n",
    "        nx, ny = stack[-1]\n",
    "\n",
    "        for move_x, move_y in move:\n",
    "            x = nx + move_x\n",
    "            y = ny + move_y\n",
    "            if x >= 0 and x < N and y >= 0 and y < N and Map[x][y] == 1:\n",
    "                obstacle += 1\n",
    "                nx = x\n",
    "                ny = y\n",
    "                stack.append((nx, ny))\n",
    "                Map[nx][ny]=0\n",
    "                break\n",
    "            if (0, -1) == (move_x, move_y):\n",
    "                stack.pop()\n",
    "                \n",
    "    return Map, obstacle\n",
    "\n",
    "N = int(input())\n",
    "\n",
    "graph = []\n",
    "for _ in range(N):\n",
    "    row_list = []\n",
    "    row = input()\n",
    "    for temp in row:\n",
    "        row_list.append(int(temp))\n",
    "        \n",
    "    graph.append(row_list)\n",
    "    \n",
    "block=0\n",
    "obstacles = []\n",
    "for row in range(N):\n",
    "    for col in range(N):\n",
    "        if graph[row][col]==1:\n",
    "            block += 1\n",
    "            graph, obstacle = dfs(graph, row, col)\n",
    "            obstacles.append(obstacle)\n",
    "\n",
    "        \n",
    "        \n",
    "obstacles.sort()        \n",
    "print(block)\n",
    "for obstacle in obstacles:\n",
    "    print(obstacle)\n"
   ]
  }
 ],
 "metadata": {
  "kernelspec": {
   "display_name": "Python 3 (ipykernel)",
   "language": "python",
   "name": "python3"
  },
  "language_info": {
   "codemirror_mode": {
    "name": "ipython",
    "version": 3
   },
   "file_extension": ".py",
   "mimetype": "text/x-python",
   "name": "python",
   "nbconvert_exporter": "python",
   "pygments_lexer": "ipython3",
   "version": "3.8.12"
  }
 },
 "nbformat": 4,
 "nbformat_minor": 5
}
