{
 "cells": [
  {
   "cell_type": "markdown",
   "id": "5e18d2ea",
   "metadata": {},
   "source": [
    "## Softeer 우물 안 개구리\n",
    "문제 page: https://softeer.ai/practice/info.do?eventIdx=1&psProblemId=394 <br>"
   ]
  },
  {
   "cell_type": "markdown",
   "id": "fb835424",
   "metadata": {},
   "source": [
    "관계에 따라 자신의 무게와 max(타인의 무게)를 비교하여 결과값을 도출해내는 문제이다. <br>\n",
    "즉 A_j가 알고 있는 다른 회원의 무게가 [a, b, c]일 때, <br>\n",
    "```python\n",
    "if weight[A_j] <= max(a, b, c):\n",
    "    result -= 1\n",
    "```"
   ]
  },
  {
   "cell_type": "markdown",
   "id": "4212e134",
   "metadata": {},
   "source": [
    "이에 적합한 자료형은 dict형이다. <br>\n",
    "```python\n",
    "{\n",
    "    A_j = [weight[B_j], weight[B_j], ...]\n",
    "}\n",
    "```\n",
    "이 때 주의해야할 점은 친분관계는 양방향이라는 점이다."
   ]
  },
  {
   "cell_type": "markdown",
   "id": "a7f0bc71",
   "metadata": {},
   "source": [
    "문제에서 특별히 누구와도 친분이 없는 멤버의 경우 본인이 최고라고 생각하므로 이에 대한 경우도 생각해줘야 한다."
   ]
  },
  {
   "cell_type": "code",
   "execution_count": 2,
   "id": "75913892",
   "metadata": {},
   "outputs": [
    {
     "name": "stdout",
     "output_type": "stream",
     "text": [
      "5 3\n",
      "1 2 3 4 5\n",
      "1 3\n",
      "2 4\n",
      "2 5\n",
      "3\n"
     ]
    }
   ],
   "source": [
    "N, M = [int(x) for x in input().split()]\n",
    "weights = [int(weight) for weight in input().split()]\n",
    "weights.insert(0, -1) # Not use 0 index\n",
    "\n",
    "count = N\n",
    "relation = {}\n",
    "for i in range(1, N+1):\n",
    "    relation[i] = []\n",
    "    \n",
    "for _ in range(M):\n",
    "    A_j, B_j = [int(x) for x in input().split()]\n",
    "    relation[A_j].append(weights[B_j])\n",
    "    relation[B_j].append(weights[A_j])\n",
    "    \n",
    "for i in range(1, N+1):\n",
    "    if relation[i] == []:\n",
    "        continue\n",
    "\n",
    "    if weights[i] <= max(relation[i]): \n",
    "        count -= 1\n",
    "        \n",
    "print(count)"
   ]
  }
 ],
 "metadata": {
  "kernelspec": {
   "display_name": "Python 3 (ipykernel)",
   "language": "python",
   "name": "python3"
  },
  "language_info": {
   "codemirror_mode": {
    "name": "ipython",
    "version": 3
   },
   "file_extension": ".py",
   "mimetype": "text/x-python",
   "name": "python",
   "nbconvert_exporter": "python",
   "pygments_lexer": "ipython3",
   "version": "3.8.12"
  }
 },
 "nbformat": 4,
 "nbformat_minor": 5
}
