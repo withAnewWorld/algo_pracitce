{
 "cells": [
  {
   "cell_type": "code",
   "execution_count": null,
   "id": "ebb5dfe7",
   "metadata": {},
   "outputs": [],
   "source": [
    "# 실패\n",
    "# 부분점수 10\n",
    "import math\n",
    "N, K = [int(x) for x in input().split()]\n",
    "\n",
    "obj = []\n",
    "for _ in range(N):\n",
    "    x, y, c = [int(x) for x in input().split()]\n",
    "    obj.append((x, y, c))\n",
    "    \n",
    "ans = math.inf\n",
    "for i in range(N-1):\n",
    "    x_i, y_i, c_i = obj[i]\n",
    "    for j in range(i+1, N):\n",
    "        x_j, y_j, c_j = obj[j]\n",
    "        area = abs(x_i-x_j)*abs(y_i-y_j)\n",
    "        minx, maxx = min(x_i, x_j), max(x_i, x_j)\n",
    "        miny, maxy = min(y_i, y_j), max(y_i, y_j)\n",
    "        color_list = list(set([c_i, c_j]))\n",
    "        # if K == len(color_list):\n",
    "        #     if area < ans:\n",
    "        #         ans = area\n",
    "        #     continue\n",
    "        for k in range(N):\n",
    "            if K == len(color_list):\n",
    "                if area < ans:\n",
    "                    ans = area\n",
    "                break\n",
    "            x_k, y_k, c_k = obj[k]\n",
    "            if c_k not in color_list:\n",
    "                is_among_x = (minx <= x_k and x_k <= maxx)\n",
    "                is_among_y = (miny <= y_k and y_k <= maxy)\n",
    "                if is_among_x and is_among_y:\n",
    "                    color_list.append(c_k)\n",
    "\n",
    "                            \n",
    "print(ans)\n",
    "            "
   ]
  }
 ],
 "metadata": {
  "kernelspec": {
   "display_name": "Python 3 (ipykernel)",
   "language": "python",
   "name": "python3"
  },
  "language_info": {
   "codemirror_mode": {
    "name": "ipython",
    "version": 3
   },
   "file_extension": ".py",
   "mimetype": "text/x-python",
   "name": "python",
   "nbconvert_exporter": "python",
   "pygments_lexer": "ipython3",
   "version": "3.8.12"
  }
 },
 "nbformat": 4,
 "nbformat_minor": 5
}
