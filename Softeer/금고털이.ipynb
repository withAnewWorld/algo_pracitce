{
 "cells": [
  {
   "cell_type": "markdown",
   "id": "05944e13",
   "metadata": {},
   "source": [
    "## 금고털이\n",
    "문제 page: https://softeer.ai/practice/info.do?eventIdx=1&psProblemId=395 <br>\n",
    "해결방안: greedy <br>\n",
    "1. 무게당 가격 P가 가장 높은 금속을 담는다. <br>\n",
    "2. 배낭의 무게를 고려한다. <br>\n",
    "3. 다음으로 무게당 가격 P가 높은 금속을 담는다<br>\n",
    "\n",
    "\n",
    "input data<br>\n",
    "무게당 가격 P를 정렬해야 하므로 이에 적합한 자료형에 담는다.<br>\n",
    "이 때, 금속의 무게 M을 고려해야 하므로 튜플형으로 묶어주면 연산하기에 편리하다.<br>\n",
    "tuple형의 자료를 자동으로 정렬해주는 자료구조 -> heap<br>"
   ]
  },
  {
   "cell_type": "code",
   "execution_count": 15,
   "id": "d3a7fa8a",
   "metadata": {
    "scrolled": true
   },
   "outputs": [
    {
     "name": "stdout",
     "output_type": "stream",
     "text": [
      "100 2\n",
      "90 1\n",
      "70 2\n",
      "170\n"
     ]
    }
   ],
   "source": [
    "import heapq\n",
    "W, N = [int(x) for x in input().split()]\n",
    "products = []\n",
    "\n",
    "for _ in range(N):\n",
    "    M, P = [int(x) for x in input().split()]\n",
    "    heapq.heappush((products), (-P, M))\n",
    "\n",
    "total = 0\n",
    "while products:\n",
    "    P, M = heapq.heappop(products)\n",
    "    P = -P\n",
    "    if M >= W:\n",
    "        print(total + (W*P))\n",
    "        break\n",
    "    total += M*P\n",
    "    W -= M\n",
    "    if W<=0:\n",
    "        print(total)\n",
    "        break\n",
    "\n"
   ]
  }
 ],
 "metadata": {
  "kernelspec": {
   "display_name": "Python 3 (ipykernel)",
   "language": "python",
   "name": "python3"
  },
  "language_info": {
   "codemirror_mode": {
    "name": "ipython",
    "version": 3
   },
   "file_extension": ".py",
   "mimetype": "text/x-python",
   "name": "python",
   "nbconvert_exporter": "python",
   "pygments_lexer": "ipython3",
   "version": "3.8.12"
  }
 },
 "nbformat": 4,
 "nbformat_minor": 5
}
