{
 "cells": [
  {
   "cell_type": "markdown",
   "id": "57eded8e",
   "metadata": {},
   "source": [
    "## Softeer 회의실 예약\n",
    "문제 page: https://softeer.ai/practice/info.do?eventIdx=1&psProblemId=626 <br>"
   ]
  },
  {
   "cell_type": "markdown",
   "id": "a919440b",
   "metadata": {},
   "source": [
    "문제의 설명이 꾀나 복잡하므로 input data와 그에 따라 처리해야할 output을 먼저 살펴보자."
   ]
  },
  {
   "cell_type": "markdown",
   "id": "24781282",
   "metadata": {},
   "source": [
    "```python\n",
    "회의실 예약\n",
    "'''\n",
    "    inputs:\n",
    "        - N, M\n",
    "            N(int): 회의실 수\n",
    "            M(int): 예약된 회의의 수\n",
    "        - 회의실 이름\n",
    "        - 회의실 이름, 회의 시작 시간, 회의 종료 시간\n",
    "    outputs:\n",
    "        Room 이름(오름차순):\n",
    "        회의 가능한 시간대 갯수\n",
    "        회의 가능한 시간(오름차순)\n",
    "'''\n",
    "```\n",
    "문제에 주어진 예시(예제1)를 통해 상황을 살펴보자."
   ]
  },
  {
   "cell_type": "code",
   "execution_count": 3,
   "id": "cd89b959",
   "metadata": {
    "scrolled": true
   },
   "outputs": [
    {
     "data": {
      "image/png": "[encoded data removed]",
      "text/plain": [
       "<IPython.core.display.Image object>"
      ]
     },
     "execution_count": 3,
     "metadata": {},
     "output_type": "execute_result"
    }
   ],
   "source": [
    "from IPython.display import Image\n",
    "Image('회의실예약1.png')"
   ]
  },
  {
   "cell_type": "markdown",
   "id": "91f53606",
   "metadata": {},
   "source": [
    "Room grandeur의 경우 input data로 <br>\n",
    "1) s1, t1 = 11, 12 <br>\n",
    "2) s2, t2 = 16, 18 <br>\n",
    "로 주어진다. <br>\n",
    "이 때 output은 09-11, 12-16이다. <br>\n",
    "즉, <br>\n",
    "1) 09 - + str(s1) <br>\n",
    "2) str(t1) + ' - ' + str(s2) <br> \n",
    "<br>\n",
    "각각의 회의실에 대해 s, t에 대한 정보를 담아 반복문으로 처리하면 될 것 같다. <br>\n",
    "이 때 주의해야할 점은 <br>\n",
    "1) 시작시간에 대한 처리 <br>\n",
    "2) 끝나는 시간에 대한 처리이다. <br>\n",
    "<br>\n",
    "그러면 이용가능한 회의실의 갯수는 어떻게 구할 수 있을까? <br>\n",
    "위에서 가능한 회의 시간대를 구했으므로 list에 저장한다. <br>\n",
    "따라서, list의 길이가 이용가능한 회의실의 갯수이다. <br>\n",
    "<br>\n",
    "'-----'의 경우는 마지막 결과를 제외하고 모두 아래쪽에 출력이 된다. <br>\n",
    "(생각을 바꿔서 처음 결과를 제외하고 모두 위쪽에 출력이 된다고 생각해도 된다.) <br>\n",
    "이를 구현하기 위해서는 다양한 방법이 있겠지만 매번 처리가 끝날 때마다 count를 해줘서 결과값이 N-1이면 print하지 않는 방안이 있다."
   ]
  },
  {
   "cell_type": "markdown",
   "id": "f58408b4",
   "metadata": {},
   "source": [
    "## 해답"
   ]
  },
  {
   "cell_type": "code",
   "execution_count": 4,
   "id": "6a4155a3",
   "metadata": {
    "scrolled": true
   },
   "outputs": [
    {
     "name": "stdout",
     "output_type": "stream",
     "text": [
      "3 7\n",
      "grandeur\n",
      "avante\n",
      "sonata\n",
      "sonata 14 16\n",
      "grandeur 11 12\n",
      "avante 15 18\n",
      "sonata 10 11\n",
      "avante 9 12\n",
      "grandeur 16 18\n",
      "avante 12 15\n",
      "Room avante:\n",
      "Not available\n",
      "-----\n",
      "Room grandeur:\n",
      "2 available:\n",
      "09-11\n",
      "12-16\n",
      "-----\n",
      "Room sonata:\n",
      "3 available:\n",
      "09-10\n",
      "11-14\n",
      "16-18\n"
     ]
    }
   ],
   "source": [
    "N, M = input().split()\n",
    "N = int(N)\n",
    "M = int(M)\n",
    "\n",
    "rooms = {}\n",
    "for _ in range(N):\n",
    "    rooms[input()] = []\n",
    "\n",
    "for _ in range(M):\n",
    "    r, s, t = input().split()\n",
    "    rooms[r].append( (int(s), int(t)) )\n",
    "    \n",
    "n_room = 0\n",
    "for r, times in sorted(rooms.items()):\n",
    "    result = []\n",
    "    temp = None\n",
    "    for s, t in sorted(times):\n",
    "        if temp is None:\n",
    "            if s == 9:\n",
    "                temp = t\n",
    "                continue\n",
    "            result.append( (9, s) )\n",
    "            temp = t\n",
    "            continue\n",
    "        if temp==s:\n",
    "            temp = t \n",
    "            continue\n",
    "        result.append((temp, s))\n",
    "        temp = t\n",
    "    if temp != 18:\n",
    "        result.append( (temp, 18) )   \n",
    "\n",
    "    print('Room ' + str(r) + \":\")\n",
    "    num = len(result)\n",
    "    \n",
    "    if num==0:\n",
    "        print(\"Not available\")\n",
    "    elif not rooms[r]:\n",
    "        print('1 available:')\n",
    "        print('09-18')\n",
    "    else:            \n",
    "        print(str(num) + \" available:\")\n",
    "\n",
    "        for s_time, t_time in result:\n",
    "            print( '%02d-%02d' % (s_time, t_time))\n",
    "    \n",
    "    n_room +=1\n",
    "    if n_room < N:\n",
    "        print('-'*5)"
   ]
  },
  {
   "cell_type": "code",
   "execution_count": 6,
   "id": "2e773a8c",
   "metadata": {},
   "outputs": [
    {
     "name": "stdout",
     "output_type": "stream",
     "text": [
      "3 2\n",
      "santafe\n",
      "aerocity\n",
      "porter\n",
      "santafe 9 12\n",
      "porter 9 18\n",
      "Room aerocity:\n",
      "1 available:\n",
      "09-18\n",
      "-----\n",
      "Room porter:\n",
      "Not available\n",
      "-----\n",
      "Room santafe:\n",
      "1 available:\n",
      "12-18\n"
     ]
    }
   ],
   "source": [
    "# second ans\n",
    "N, M = [int(x) for x in input().split()]\n",
    "\n",
    "rooms = []\n",
    "schedule = {}\n",
    "for _ in range(N):\n",
    "    room = input()\n",
    "    rooms.append(room)\n",
    "    schedule[room] = []\n",
    "\n",
    "for _ in range(M):\n",
    "    r, s, t = [x for x in input().split()]\n",
    "    s = int(s)\n",
    "    t = int(t)\n",
    "    schedule[r].append((s, t))\n",
    "    \n",
    "N_room = 0\n",
    "for room, times in sorted(schedule.items()):\n",
    "    if N_room < N and N_room>0:\n",
    "        print('-'*5)\n",
    "    N_room +=1\n",
    "    print('Room ' + room + ':')\n",
    "    count = 0\n",
    "    result = []\n",
    "    if times==[]:\n",
    "        print('1 available:')\n",
    "        print('09-18')\n",
    "        continue\n",
    "    times.sort()\n",
    "    if times[0][0] != 9:\n",
    "        count += 1\n",
    "        result.append('09-'+str(times[0][0]))\n",
    "        \n",
    "    for i in range(1, len(times)):\n",
    "        if not times[i-1][1] == times[i][0]:\n",
    "            count +=1\n",
    "            result.append(str(times[i-1][1])+ '-'+str(times[i][0]))\n",
    "        \n",
    "    if times[-1][1] != 18:\n",
    "        count +=1\n",
    "        result.append(str(times[-1][1])+'-18')\n",
    "    \n",
    "    if count == 0:\n",
    "        print('Not available')\n",
    "        continue\n",
    "        \n",
    "    print(str(count)+' available:')\n",
    "    for time in result:\n",
    "        print(time)\n"
   ]
  }
 ],
 "metadata": {
  "kernelspec": {
   "display_name": "Python 3 (ipykernel)",
   "language": "python",
   "name": "python3"
  },
  "language_info": {
   "codemirror_mode": {
    "name": "ipython",
    "version": 3
   },
   "file_extension": ".py",
   "mimetype": "text/x-python",
   "name": "python",
   "nbconvert_exporter": "python",
   "pygments_lexer": "ipython3",
   "version": "3.8.12"
  }
 },
 "nbformat": 4,
 "nbformat_minor": 5
}
