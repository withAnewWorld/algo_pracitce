{
 "cells": [
  {
   "cell_type": "markdown",
   "id": "a7bfd1e8",
   "metadata": {},
   "source": [
    "## Softeer 성적 평균\n",
    "문제 page: https://softeer.ai/practice/info.do?eventIdx=1&psProblemId=584 <br>"
   ]
  },
  {
   "cell_type": "markdown",
   "id": "44360715",
   "metadata": {},
   "source": [
    "구간별 평균을 구하는 문제 <br>\n",
    "1. slicing을 이용하여 구간에 속하는 원소합을 구한다. <br>\n",
    "2. index의 길이로 나눈다.<br>\n",
    "3. 소수셋째자리에서 반올림한다 (round함수 이용)"
   ]
  },
  {
   "cell_type": "code",
   "execution_count": 1,
   "id": "2908cf5b",
   "metadata": {},
   "outputs": [
    {
     "name": "stdout",
     "output_type": "stream",
     "text": [
      "5 3\n",
      "10 50 20 70 100\n",
      "1 3\n",
      "3 4\n",
      "1 5\n",
      "26.67\n",
      "45.00\n",
      "50.00\n"
     ]
    }
   ],
   "source": [
    "# naive version (469ms, memory: 117.89Mb)\n",
    "N, K = [int(x) for x in input().split()]\n",
    "\n",
    "\n",
    "scores = [int(score) for score in input().split()]\n",
    "\n",
    "result = []\n",
    "for _ in range(K):\n",
    "    A_i, B_i = [int(x) for x in input().split()]\n",
    "    A_i -= 1\n",
    "    B_i -= 1\n",
    "    average = sum(scores[A_i:B_i+1])/(B_i-A_i+1)\n",
    "    average = round(average, 2)\n",
    "    result.append(average)\n",
    "    \n",
    "for average in result:\n",
    "    print('%.2f'%average)\n"
   ]
  },
  {
   "cell_type": "markdown",
   "id": "f20a496b",
   "metadata": {},
   "source": [
    "## 구간 합 (Bonus)\n",
    "별도의 list를 만들어 score를 누적해서 더할경우 반복문의 사용이 줄어들어 빠르게 구간 합을 구할 수 있다. <br>\n",
    "```python\n",
    "누적합[0] = 0\n",
    "누적합[1] = 0 + score[0]  \n",
    "누적합[2] = 0 + score[0] + score[1]\n",
    "...\n",
    "누적합[n] = 0 + score[0] + score[1] + ... + score[n-1]\n",
    "\n",
    "score[i-1] + score[i+1] + ... + score[i+j-1] = 누적합[i+j] - 누적합[i-1]\n",
    "```\n",
    "참고: 동빈나 파이썬 알고리즘(구간 합 빠르게 구하기)<br>\n",
    "https://www.youtube.com/watch?v=cswJ1h-How0&list=PLRx0vPvlEmdAghTr5mXQxGpHjWqSz0dgC&index=9<br>\n",
    "\n"
   ]
  },
  {
   "cell_type": "code",
   "execution_count": 3,
   "id": "a7dc739e",
   "metadata": {},
   "outputs": [
    {
     "name": "stdout",
     "output_type": "stream",
     "text": [
      "5 3\n",
      "10 50 20 70 100\n",
      "1 3\n",
      "3 4\n",
      "1 5\n",
      "26.67\n",
      "45.00\n",
      "50.00\n"
     ]
    }
   ],
   "source": [
    "# speed up version (331ms, memory: 141.04Mb)\n",
    "\n",
    "N, K = [int(x) for x in input().split()]\n",
    "accumulate_score = 0\n",
    "acc_array =[0]\n",
    "for score in input().split():\n",
    "    accumulate_score += int(score)\n",
    "    acc_array.append(accumulate_score)\n",
    "\n",
    "result=[]\n",
    "for _ in range(K):\n",
    "    A_i, B_i = [int(x) for x in input().split()]\n",
    "    denom = B_i - A_i + 1 # denominator: 분모\n",
    "    num = acc_array[B_i] - acc_array[A_i-1] # numerator: 분자\n",
    "    average = round(num/denom, 2)\n",
    "    result.append(average)\n",
    "\n",
    "for average in result:\n",
    "    print('%.2f'%average)"
   ]
  }
 ],
 "metadata": {
  "kernelspec": {
   "display_name": "Python 3 (ipykernel)",
   "language": "python",
   "name": "python3"
  },
  "language_info": {
   "codemirror_mode": {
    "name": "ipython",
    "version": 3
   },
   "file_extension": ".py",
   "mimetype": "text/x-python",
   "name": "python",
   "nbconvert_exporter": "python",
   "pygments_lexer": "ipython3",
   "version": "3.8.12"
  }
 },
 "nbformat": 4,
 "nbformat_minor": 5
}
